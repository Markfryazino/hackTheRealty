{
 "cells": [
  {
   "cell_type": "code",
   "execution_count": 1,
   "metadata": {},
   "outputs": [],
   "source": [
    "import pandas as pd\n",
    "import numpy as np\n",
    "import matplotlib.pyplot as plt"
   ]
  },
  {
   "cell_type": "code",
   "execution_count": 2,
   "metadata": {},
   "outputs": [],
   "source": [
    "from utils.data import load_data\n",
    "from utils.model import XGBModel\n",
    "from utils.pipeline import pipeline, get_data"
   ]
  },
  {
   "cell_type": "code",
   "execution_count": 3,
   "metadata": {},
   "outputs": [],
   "source": [
    "base, train, test, sample = load_data()"
   ]
  },
  {
   "cell_type": "code",
   "execution_count": 4,
   "metadata": {},
   "outputs": [
    {
     "name": "stdout",
     "output_type": "stream",
     "text": [
      "Data processed\n",
      "(132821, 22) (132821,) (33206, 22) (33206,)\n",
      "[16:55:35] WARNING: /workspace/src/objective/regression_obj.cu:152: reg:linear is now deprecated in favor of reg:squarederror.\n",
      "[0]\tvalidation_0-rmse:137856\tvalidation_0-mape:88.2393\n",
      "[1]\tvalidation_0-rmse:126440\tvalidation_0-mape:77.6342\n",
      "[2]\tvalidation_0-rmse:116257\tvalidation_0-mape:68.2641\n",
      "[3]\tvalidation_0-rmse:107212\tvalidation_0-mape:59.7213\n",
      "[4]\tvalidation_0-rmse:99159.3\tvalidation_0-mape:52.8281\n",
      "[5]\tvalidation_0-rmse:91996.7\tvalidation_0-mape:46.9005\n",
      "[6]\tvalidation_0-rmse:85777.8\tvalidation_0-mape:42.1421\n",
      "[7]\tvalidation_0-rmse:80242.2\tvalidation_0-mape:38.2097\n",
      "[8]\tvalidation_0-rmse:75317.7\tvalidation_0-mape:35.1307\n",
      "[9]\tvalidation_0-rmse:71157.9\tvalidation_0-mape:32.9564\n",
      "[10]\tvalidation_0-rmse:67510.5\tvalidation_0-mape:31.4531\n",
      "[11]\tvalidation_0-rmse:64200.1\tvalidation_0-mape:30.3182\n",
      "[12]\tvalidation_0-rmse:61350.9\tvalidation_0-mape:29.5424\n",
      "[13]\tvalidation_0-rmse:58872.8\tvalidation_0-mape:29.078\n",
      "[14]\tvalidation_0-rmse:56706\tvalidation_0-mape:28.7971\n",
      "[15]\tvalidation_0-rmse:54856.9\tvalidation_0-mape:28.6661\n",
      "[16]\tvalidation_0-rmse:53160.9\tvalidation_0-mape:28.6348\n",
      "[17]\tvalidation_0-rmse:51735.6\tvalidation_0-mape:28.8034\n",
      "[18]\tvalidation_0-rmse:50539.9\tvalidation_0-mape:28.8604\n",
      "[19]\tvalidation_0-rmse:49459.8\tvalidation_0-mape:28.9627\n",
      "[20]\tvalidation_0-rmse:48481.3\tvalidation_0-mape:29.0129\n",
      "[21]\tvalidation_0-rmse:47648.6\tvalidation_0-mape:29.1058\n",
      "[22]\tvalidation_0-rmse:46794.6\tvalidation_0-mape:29.2387\n",
      "[23]\tvalidation_0-rmse:46173.8\tvalidation_0-mape:29.3949\n",
      "[24]\tvalidation_0-rmse:45582.7\tvalidation_0-mape:29.4794\n",
      "[25]\tvalidation_0-rmse:45072.6\tvalidation_0-mape:29.5566\n",
      "[26]\tvalidation_0-rmse:44497.7\tvalidation_0-mape:29.6995\n",
      "[27]\tvalidation_0-rmse:44083.9\tvalidation_0-mape:29.8208\n",
      "[28]\tvalidation_0-rmse:43732.2\tvalidation_0-mape:29.887\n",
      "[29]\tvalidation_0-rmse:43415.9\tvalidation_0-mape:30.0513\n",
      "[30]\tvalidation_0-rmse:42963.2\tvalidation_0-mape:30.0791\n",
      "[31]\tvalidation_0-rmse:42707.8\tvalidation_0-mape:30.1877\n",
      "[32]\tvalidation_0-rmse:42441.5\tvalidation_0-mape:30.3262\n",
      "[33]\tvalidation_0-rmse:42137.5\tvalidation_0-mape:30.3147\n",
      "[34]\tvalidation_0-rmse:41934.7\tvalidation_0-mape:30.2567\n",
      "[35]\tvalidation_0-rmse:41733.3\tvalidation_0-mape:30.2838\n",
      "[36]\tvalidation_0-rmse:41503.1\tvalidation_0-mape:30.3497\n",
      "[37]\tvalidation_0-rmse:41187.8\tvalidation_0-mape:30.2873\n",
      "[38]\tvalidation_0-rmse:40957.1\tvalidation_0-mape:30.2105\n",
      "[39]\tvalidation_0-rmse:40820.6\tvalidation_0-mape:30.1269\n",
      "[40]\tvalidation_0-rmse:40572.9\tvalidation_0-mape:30.1751\n",
      "[41]\tvalidation_0-rmse:40367.1\tvalidation_0-mape:30.1085\n",
      "[42]\tvalidation_0-rmse:40187.7\tvalidation_0-mape:30.0891\n",
      "[43]\tvalidation_0-rmse:39997.4\tvalidation_0-mape:30.0521\n",
      "[44]\tvalidation_0-rmse:39841.5\tvalidation_0-mape:30.0133\n",
      "[45]\tvalidation_0-rmse:39766.6\tvalidation_0-mape:30.0468\n",
      "[46]\tvalidation_0-rmse:39605\tvalidation_0-mape:29.9773\n",
      "[47]\tvalidation_0-rmse:39427.1\tvalidation_0-mape:29.8347\n",
      "[48]\tvalidation_0-rmse:39298.9\tvalidation_0-mape:29.7861\n",
      "[49]\tvalidation_0-rmse:39167.3\tvalidation_0-mape:29.7664\n",
      "[50]\tvalidation_0-rmse:39061\tvalidation_0-mape:29.7285\n",
      "[51]\tvalidation_0-rmse:38987.3\tvalidation_0-mape:29.6606\n",
      "[52]\tvalidation_0-rmse:38866.2\tvalidation_0-mape:29.5449\n",
      "[53]\tvalidation_0-rmse:38720.9\tvalidation_0-mape:29.454\n",
      "[54]\tvalidation_0-rmse:38646\tvalidation_0-mape:29.4662\n",
      "[55]\tvalidation_0-rmse:38553.3\tvalidation_0-mape:29.4266\n",
      "[56]\tvalidation_0-rmse:38409.6\tvalidation_0-mape:29.3049\n",
      "[57]\tvalidation_0-rmse:38359.6\tvalidation_0-mape:29.2771\n",
      "[58]\tvalidation_0-rmse:38282.3\tvalidation_0-mape:29.1885\n",
      "[59]\tvalidation_0-rmse:38184.4\tvalidation_0-mape:29.1091\n",
      "[60]\tvalidation_0-rmse:38132.4\tvalidation_0-mape:29.1212\n",
      "[61]\tvalidation_0-rmse:38041.7\tvalidation_0-mape:29.0233\n",
      "[62]\tvalidation_0-rmse:37953.6\tvalidation_0-mape:29.0102\n",
      "[63]\tvalidation_0-rmse:37868\tvalidation_0-mape:28.9352\n",
      "[64]\tvalidation_0-rmse:37836.4\tvalidation_0-mape:28.8802\n",
      "[65]\tvalidation_0-rmse:37674.4\tvalidation_0-mape:28.7863\n",
      "[66]\tvalidation_0-rmse:37623.6\tvalidation_0-mape:28.7424\n",
      "[67]\tvalidation_0-rmse:37450.9\tvalidation_0-mape:28.7062\n",
      "[68]\tvalidation_0-rmse:37406.7\tvalidation_0-mape:28.7031\n",
      "[69]\tvalidation_0-rmse:37333.1\tvalidation_0-mape:28.6803\n",
      "[70]\tvalidation_0-rmse:37285.7\tvalidation_0-mape:28.6581\n",
      "[71]\tvalidation_0-rmse:37244.9\tvalidation_0-mape:28.6354\n",
      "[72]\tvalidation_0-rmse:37134.4\tvalidation_0-mape:28.5753\n",
      "[73]\tvalidation_0-rmse:37065.6\tvalidation_0-mape:28.5439\n",
      "[74]\tvalidation_0-rmse:36914\tvalidation_0-mape:28.451\n",
      "[75]\tvalidation_0-rmse:36850.9\tvalidation_0-mape:28.3996\n",
      "[76]\tvalidation_0-rmse:36791.3\tvalidation_0-mape:28.3558\n",
      "[77]\tvalidation_0-rmse:36729.2\tvalidation_0-mape:28.335\n",
      "[78]\tvalidation_0-rmse:36664\tvalidation_0-mape:28.2939\n",
      "[79]\tvalidation_0-rmse:36586.6\tvalidation_0-mape:28.2481\n",
      "[80]\tvalidation_0-rmse:36552.7\tvalidation_0-mape:28.2388\n",
      "[81]\tvalidation_0-rmse:36487.4\tvalidation_0-mape:28.2062\n",
      "[82]\tvalidation_0-rmse:36463.4\tvalidation_0-mape:28.1721\n",
      "[83]\tvalidation_0-rmse:36408.3\tvalidation_0-mape:28.12\n",
      "[84]\tvalidation_0-rmse:36350\tvalidation_0-mape:28.0403\n",
      "[85]\tvalidation_0-rmse:36291.8\tvalidation_0-mape:27.9608\n",
      "[86]\tvalidation_0-rmse:36236.1\tvalidation_0-mape:27.9455\n",
      "[87]\tvalidation_0-rmse:36177.2\tvalidation_0-mape:27.9378\n",
      "[88]\tvalidation_0-rmse:36097\tvalidation_0-mape:27.9066\n",
      "[89]\tvalidation_0-rmse:36027.2\tvalidation_0-mape:27.824\n",
      "[90]\tvalidation_0-rmse:35896.4\tvalidation_0-mape:27.7713\n",
      "[91]\tvalidation_0-rmse:35798.9\tvalidation_0-mape:27.7613\n",
      "[92]\tvalidation_0-rmse:35691.9\tvalidation_0-mape:27.7292\n",
      "[93]\tvalidation_0-rmse:35579.4\tvalidation_0-mape:27.6911\n",
      "[94]\tvalidation_0-rmse:35545.6\tvalidation_0-mape:27.6717\n",
      "[95]\tvalidation_0-rmse:35487.9\tvalidation_0-mape:27.6303\n",
      "[96]\tvalidation_0-rmse:35433.1\tvalidation_0-mape:27.5828\n",
      "[97]\tvalidation_0-rmse:35380.3\tvalidation_0-mape:27.5592\n",
      "[98]\tvalidation_0-rmse:35350.8\tvalidation_0-mape:27.5527\n",
      "[99]\tvalidation_0-rmse:35293.7\tvalidation_0-mape:27.5093\n",
      "Метрика на train: 72.35532857620731\n",
      "Метрика на валидации: 72.49066510339323\n"
     ]
    }
   ],
   "source": [
    "model = XGBModel({})\n",
    "pred = pipeline(model, train, base, test, 0.2)"
   ]
  }
 ],
 "metadata": {
  "kernelspec": {
   "display_name": "Python 3",
   "language": "python",
   "name": "python3"
  },
  "language_info": {
   "codemirror_mode": {
    "name": "ipython",
    "version": 3
   },
   "file_extension": ".py",
   "mimetype": "text/x-python",
   "name": "python",
   "nbconvert_exporter": "python",
   "pygments_lexer": "ipython3",
   "version": "3.7.3"
  }
 },
 "nbformat": 4,
 "nbformat_minor": 2
}
