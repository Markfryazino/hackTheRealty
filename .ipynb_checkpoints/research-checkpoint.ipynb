{
 "cells": [
  {
   "cell_type": "code",
   "execution_count": 1,
   "metadata": {},
   "outputs": [],
   "source": [
    "import pandas as pd\n",
    "import numpy as np\n",
    "import matplotlib.pyplot as plt"
   ]
  },
  {
   "cell_type": "code",
   "execution_count": 2,
   "metadata": {},
   "outputs": [],
   "source": [
    "from utils.data import load_data\n",
    "from utils.model import XGBModel\n",
    "from utils.pipeline import pipeline, get_data"
   ]
  },
  {
   "cell_type": "code",
   "execution_count": 3,
   "metadata": {},
   "outputs": [],
   "source": [
    "base, train, test, sample = load_data()"
   ]
  },
  {
   "cell_type": "code",
   "execution_count": 6,
   "metadata": {},
   "outputs": [],
   "source": [
    "train['month'] = train['month'].apply(pd.to_datetime)"
   ]
  },
  {
   "cell_type": "code",
   "execution_count": 8,
   "metadata": {},
   "outputs": [],
   "source": [
    "from sklearn.linear_model import LinearRegression"
   ]
  },
  {
   "cell_type": "code",
   "execution_count": 12,
   "metadata": {},
   "outputs": [
    {
     "data": {
      "text/html": [
       "<div>\n",
       "<style scoped>\n",
       "    .dataframe tbody tr th:only-of-type {\n",
       "        vertical-align: middle;\n",
       "    }\n",
       "\n",
       "    .dataframe tbody tr th {\n",
       "        vertical-align: top;\n",
       "    }\n",
       "\n",
       "    .dataframe thead th {\n",
       "        text-align: right;\n",
       "    }\n",
       "</style>\n",
       "<table border=\"1\" class=\"dataframe\">\n",
       "  <thead>\n",
       "    <tr style=\"text-align: right;\">\n",
       "      <th></th>\n",
       "      <th>month</th>\n",
       "      <th>avg_price_sqm</th>\n",
       "    </tr>\n",
       "  </thead>\n",
       "  <tbody>\n",
       "    <tr>\n",
       "      <th>18684</th>\n",
       "      <td>2017-01-01</td>\n",
       "      <td>63345.738839</td>\n",
       "    </tr>\n",
       "    <tr>\n",
       "      <th>18685</th>\n",
       "      <td>2017-02-01</td>\n",
       "      <td>67507.867188</td>\n",
       "    </tr>\n",
       "    <tr>\n",
       "      <th>18686</th>\n",
       "      <td>2017-03-01</td>\n",
       "      <td>67507.867188</td>\n",
       "    </tr>\n",
       "    <tr>\n",
       "      <th>18687</th>\n",
       "      <td>2017-04-01</td>\n",
       "      <td>67507.867188</td>\n",
       "    </tr>\n",
       "    <tr>\n",
       "      <th>18688</th>\n",
       "      <td>2017-05-01</td>\n",
       "      <td>67507.867188</td>\n",
       "    </tr>\n",
       "  </tbody>\n",
       "</table>\n",
       "</div>"
      ],
      "text/plain": [
       "           month  avg_price_sqm\n",
       "18684 2017-01-01   63345.738839\n",
       "18685 2017-02-01   67507.867188\n",
       "18686 2017-03-01   67507.867188\n",
       "18687 2017-04-01   67507.867188\n",
       "18688 2017-05-01   67507.867188"
      ]
     },
     "execution_count": 12,
     "metadata": {},
     "output_type": "execute_result"
    }
   ],
   "source": [
    "train[train['city_quadkey'] == now][['month', 'avg_price_sqm']][:5]"
   ]
  },
  {
   "cell_type": "code",
   "execution_count": 31,
   "metadata": {},
   "outputs": [
    {
     "data": {
      "text/plain": [
       "Timedelta('942 days 00:00:00')"
      ]
     },
     "execution_count": 31,
     "metadata": {},
     "output_type": "execute_result"
    }
   ],
   "source": [
    "train['month'].max() - train['month'].min()"
   ]
  },
  {
   "cell_type": "code",
   "execution_count": 36,
   "metadata": {},
   "outputs": [],
   "source": [
    "def month_to_days(x):\n",
    "    mm = pd.Timestamp(year=2017, month=1, day=1)\n",
    "    return (x - mm).days"
   ]
  },
  {
   "cell_type": "code",
   "execution_count": 62,
   "metadata": {},
   "outputs": [],
   "source": [
    "deg = 2"
   ]
  },
  {
   "cell_type": "code",
   "execution_count": 40,
   "metadata": {},
   "outputs": [],
   "source": [
    "def for_reg(train, deg):\n",
    "    train['days_1'] = train['month'].apply(month_to_days)\n",
    "    for i in range(2, deg + 1):\n",
    "        train[f'deg_{i}'] = train['days_1'].apply(lambda x: x ** i)\n",
    "    y = train['y'].values\n",
    "    X = train.drop(['month', 'y'], axis=1).values\n",
    "    return X, y"
   ]
  },
  {
   "cell_type": "code",
   "execution_count": 34,
   "metadata": {},
   "outputs": [],
   "source": [
    "def to_mat(test, deg):\n",
    "    arr = pd.DataFrame()\n",
    "    arr['deg_1'] = test\n",
    "    for i in range(2, deg + 1):\n",
    "        arr['deg_' + str(i)] = arr[f'deg_{i - 1}'] * arr['deg_1']\n",
    "    return arr.values"
   ]
  },
  {
   "cell_type": "code",
   "execution_count": 48,
   "metadata": {},
   "outputs": [
    {
     "data": {
      "text/plain": [
       "Timestamp('2017-01-11 00:00:00')"
      ]
     },
     "execution_count": 48,
     "metadata": {},
     "output_type": "execute_result"
    }
   ],
   "source": [
    "mm + pd.Timedelta(days=10)"
   ]
  },
  {
   "cell_type": "code",
   "execution_count": 105,
   "metadata": {},
   "outputs": [
    {
     "name": "stdout",
     "output_type": "stream",
     "text": [
      "(32, 15)\n",
      "(31, 15)\n"
     ]
    },
    {
     "data": {
      "image/png": "[encoded data removed]",
      "text/plain": [
       "<Figure size 864x504 with 1 Axes>"
      ]
     },
     "metadata": {
      "needs_background": "light"
     },
     "output_type": "display_data"
    }
   ],
   "source": [
    "import seaborn as sns\n",
    "import random\n",
    "\n",
    "districts = list(set(train['city_quadkey']))\n",
    "\n",
    "plt.figure(figsize=(12, 7))\n",
    "for i in range(2):\n",
    "    now = random.choice(districts)\n",
    "    print(train[train['city_quadkey'] == now].shape)\n",
    "    \n",
    "    X, y = for_reg(train[train['city_quadkey'] == now][['month', 'avg_price_sqm']])\n",
    "    model = LinearRegression()\n",
    "    model.fit(X, y)\n",
    "    to_pred = list(range(0, 1200, 30))\n",
    "    to_draw = [mm + pd.Timedelta(days=d) for d in to_pred]\n",
    "    plt.plot(to_draw, model.predict(to_mat(to_pred)))\n",
    "    \n",
    "    plt.scatter(train[train['city_quadkey'] == now]['month'], train[train['city_quadkey'] == now]['avg_price_sqm'])"
   ]
  },
  {
   "cell_type": "code",
   "execution_count": 144,
   "metadata": {},
   "outputs": [],
   "source": [
    "data = train[['month', 'avg_price_sqm']]"
   ]
  },
  {
   "cell_type": "code",
   "execution_count": 107,
   "metadata": {},
   "outputs": [
    {
     "name": "stderr",
     "output_type": "stream",
     "text": [
      "/home/data_sapiens/Anaconda/lib/python3.7/site-packages/ipykernel_launcher.py:2: SettingWithCopyWarning: \n",
      "A value is trying to be set on a copy of a slice from a DataFrame.\n",
      "Try using .loc[row_indexer,col_indexer] = value instead\n",
      "\n",
      "See the caveats in the documentation: https://pandas.pydata.org/pandas-docs/stable/user_guide/indexing.html#returning-a-view-versus-a-copy\n",
      "  \n",
      "/home/data_sapiens/Anaconda/lib/python3.7/site-packages/ipykernel_launcher.py:4: SettingWithCopyWarning: \n",
      "A value is trying to be set on a copy of a slice from a DataFrame.\n",
      "Try using .loc[row_indexer,col_indexer] = value instead\n",
      "\n",
      "See the caveats in the documentation: https://pandas.pydata.org/pandas-docs/stable/user_guide/indexing.html#returning-a-view-versus-a-copy\n",
      "  after removing the cwd from sys.path.\n"
     ]
    }
   ],
   "source": [
    "X, y = for_reg(data)"
   ]
  },
  {
   "cell_type": "code",
   "execution_count": 140,
   "metadata": {},
   "outputs": [
    {
     "data": {
      "text/html": [
       "<div>\n",
       "<style scoped>\n",
       "    .dataframe tbody tr th:only-of-type {\n",
       "        vertical-align: middle;\n",
       "    }\n",
       "\n",
       "    .dataframe tbody tr th {\n",
       "        vertical-align: top;\n",
       "    }\n",
       "\n",
       "    .dataframe thead th {\n",
       "        text-align: right;\n",
       "    }\n",
       "</style>\n",
       "<table border=\"1\" class=\"dataframe\">\n",
       "  <thead>\n",
       "    <tr style=\"text-align: right;\">\n",
       "      <th></th>\n",
       "      <th>month</th>\n",
       "      <th>avg_price_sqm</th>\n",
       "      <th>days_1</th>\n",
       "      <th>deg_2</th>\n",
       "      <th>deg_3</th>\n",
       "      <th>deg_4</th>\n",
       "      <th>deg_5</th>\n",
       "      <th>deg_6</th>\n",
       "      <th>deg_7</th>\n",
       "    </tr>\n",
       "  </thead>\n",
       "  <tbody>\n",
       "    <tr>\n",
       "      <th>0</th>\n",
       "      <td>2018-02-01</td>\n",
       "      <td>22727.273438</td>\n",
       "      <td>396</td>\n",
       "      <td>156816</td>\n",
       "      <td>62099136</td>\n",
       "      <td>24591257856</td>\n",
       "      <td>9738138110976</td>\n",
       "      <td>3856302691946496</td>\n",
       "      <td>1527095866010812416</td>\n",
       "    </tr>\n",
       "    <tr>\n",
       "      <th>1</th>\n",
       "      <td>2018-03-01</td>\n",
       "      <td>22727.273438</td>\n",
       "      <td>424</td>\n",
       "      <td>179776</td>\n",
       "      <td>76225024</td>\n",
       "      <td>32319410176</td>\n",
       "      <td>13703429914624</td>\n",
       "      <td>5810254283800576</td>\n",
       "      <td>2463547816331444224</td>\n",
       "    </tr>\n",
       "    <tr>\n",
       "      <th>2</th>\n",
       "      <td>2018-06-01</td>\n",
       "      <td>43478.261719</td>\n",
       "      <td>516</td>\n",
       "      <td>266256</td>\n",
       "      <td>137388096</td>\n",
       "      <td>70892257536</td>\n",
       "      <td>36580404888576</td>\n",
       "      <td>18875488922505216</td>\n",
       "      <td>9739752284012691456</td>\n",
       "    </tr>\n",
       "    <tr>\n",
       "      <th>3</th>\n",
       "      <td>2018-07-01</td>\n",
       "      <td>43478.261719</td>\n",
       "      <td>546</td>\n",
       "      <td>298116</td>\n",
       "      <td>162771336</td>\n",
       "      <td>88873149456</td>\n",
       "      <td>48524739602976</td>\n",
       "      <td>26494507823224896</td>\n",
       "      <td>14466001271480793216</td>\n",
       "    </tr>\n",
       "    <tr>\n",
       "      <th>4</th>\n",
       "      <td>2017-01-01</td>\n",
       "      <td>36250.000000</td>\n",
       "      <td>0</td>\n",
       "      <td>0</td>\n",
       "      <td>0</td>\n",
       "      <td>0</td>\n",
       "      <td>0</td>\n",
       "      <td>0</td>\n",
       "      <td>0</td>\n",
       "    </tr>\n",
       "    <tr>\n",
       "      <th>...</th>\n",
       "      <td>...</td>\n",
       "      <td>...</td>\n",
       "      <td>...</td>\n",
       "      <td>...</td>\n",
       "      <td>...</td>\n",
       "      <td>...</td>\n",
       "      <td>...</td>\n",
       "      <td>...</td>\n",
       "      <td>...</td>\n",
       "    </tr>\n",
       "    <tr>\n",
       "      <th>166022</th>\n",
       "      <td>2019-04-01</td>\n",
       "      <td>18744.729749</td>\n",
       "      <td>820</td>\n",
       "      <td>672400</td>\n",
       "      <td>551368000</td>\n",
       "      <td>452121760000</td>\n",
       "      <td>370739843200000</td>\n",
       "      <td>304006671424000000</td>\n",
       "      <td>249285470567680000000</td>\n",
       "    </tr>\n",
       "    <tr>\n",
       "      <th>166023</th>\n",
       "      <td>2019-05-01</td>\n",
       "      <td>19055.593378</td>\n",
       "      <td>850</td>\n",
       "      <td>722500</td>\n",
       "      <td>614125000</td>\n",
       "      <td>522006250000</td>\n",
       "      <td>443705312500000</td>\n",
       "      <td>377149515625000000</td>\n",
       "      <td>320577088281250000000</td>\n",
       "    </tr>\n",
       "    <tr>\n",
       "      <th>166024</th>\n",
       "      <td>2019-06-01</td>\n",
       "      <td>19081.275263</td>\n",
       "      <td>881</td>\n",
       "      <td>776161</td>\n",
       "      <td>683797841</td>\n",
       "      <td>602425897921</td>\n",
       "      <td>530737216068401</td>\n",
       "      <td>467579487356261281</td>\n",
       "      <td>411937528360866188561</td>\n",
       "    </tr>\n",
       "    <tr>\n",
       "      <th>166025</th>\n",
       "      <td>2019-07-01</td>\n",
       "      <td>19047.505127</td>\n",
       "      <td>911</td>\n",
       "      <td>829921</td>\n",
       "      <td>756058031</td>\n",
       "      <td>688768866241</td>\n",
       "      <td>627468437145551</td>\n",
       "      <td>571623746239596961</td>\n",
       "      <td>520749232824272831471</td>\n",
       "    </tr>\n",
       "    <tr>\n",
       "      <th>166026</th>\n",
       "      <td>2019-08-01</td>\n",
       "      <td>19047.505127</td>\n",
       "      <td>942</td>\n",
       "      <td>887364</td>\n",
       "      <td>835896888</td>\n",
       "      <td>787414868496</td>\n",
       "      <td>741744806123232</td>\n",
       "      <td>698723607368084544</td>\n",
       "      <td>658197638140735640448</td>\n",
       "    </tr>\n",
       "  </tbody>\n",
       "</table>\n",
       "<p>166027 rows × 9 columns</p>\n",
       "</div>"
      ],
      "text/plain": [
       "            month  avg_price_sqm  days_1   deg_2      deg_3         deg_4  \\\n",
       "0      2018-02-01   22727.273438     396  156816   62099136   24591257856   \n",
       "1      2018-03-01   22727.273438     424  179776   76225024   32319410176   \n",
       "2      2018-06-01   43478.261719     516  266256  137388096   70892257536   \n",
       "3      2018-07-01   43478.261719     546  298116  162771336   88873149456   \n",
       "4      2017-01-01   36250.000000       0       0          0             0   \n",
       "...           ...            ...     ...     ...        ...           ...   \n",
       "166022 2019-04-01   18744.729749     820  672400  551368000  452121760000   \n",
       "166023 2019-05-01   19055.593378     850  722500  614125000  522006250000   \n",
       "166024 2019-06-01   19081.275263     881  776161  683797841  602425897921   \n",
       "166025 2019-07-01   19047.505127     911  829921  756058031  688768866241   \n",
       "166026 2019-08-01   19047.505127     942  887364  835896888  787414868496   \n",
       "\n",
       "                  deg_5               deg_6                  deg_7  \n",
       "0         9738138110976    3856302691946496    1527095866010812416  \n",
       "1        13703429914624    5810254283800576    2463547816331444224  \n",
       "2        36580404888576   18875488922505216    9739752284012691456  \n",
       "3        48524739602976   26494507823224896   14466001271480793216  \n",
       "4                     0                   0                      0  \n",
       "...                 ...                 ...                    ...  \n",
       "166022  370739843200000  304006671424000000  249285470567680000000  \n",
       "166023  443705312500000  377149515625000000  320577088281250000000  \n",
       "166024  530737216068401  467579487356261281  411937528360866188561  \n",
       "166025  627468437145551  571623746239596961  520749232824272831471  \n",
       "166026  741744806123232  698723607368084544  658197638140735640448  \n",
       "\n",
       "[166027 rows x 9 columns]"
      ]
     },
     "execution_count": 140,
     "metadata": {},
     "output_type": "execute_result"
    }
   ],
   "source": [
    "data"
   ]
  },
  {
   "cell_type": "code",
   "execution_count": 147,
   "metadata": {},
   "outputs": [
    {
     "name": "stderr",
     "output_type": "stream",
     "text": [
      "/home/data_sapiens/Anaconda/lib/python3.7/site-packages/ipykernel_launcher.py:2: SettingWithCopyWarning: \n",
      "A value is trying to be set on a copy of a slice from a DataFrame.\n",
      "Try using .loc[row_indexer,col_indexer] = value instead\n",
      "\n",
      "See the caveats in the documentation: https://pandas.pydata.org/pandas-docs/stable/user_guide/indexing.html#returning-a-view-versus-a-copy\n",
      "  \n",
      "/home/data_sapiens/Anaconda/lib/python3.7/site-packages/ipykernel_launcher.py:4: SettingWithCopyWarning: \n",
      "A value is trying to be set on a copy of a slice from a DataFrame.\n",
      "Try using .loc[row_indexer,col_indexer] = value instead\n",
      "\n",
      "See the caveats in the documentation: https://pandas.pydata.org/pandas-docs/stable/user_guide/indexing.html#returning-a-view-versus-a-copy\n",
      "  after removing the cwd from sys.path.\n"
     ]
    },
    {
     "data": {
      "text/plain": [
       "[<matplotlib.lines.Line2D at 0x7fab9c2b3080>]"
      ]
     },
     "execution_count": 147,
     "metadata": {},
     "output_type": "execute_result"
    },
    {
     "data": {
      "image/png": "[encoded data removed]",
      "text/plain": [
       "<Figure size 864x504 with 1 Axes>"
      ]
     },
     "metadata": {
      "needs_background": "light"
     },
     "output_type": "display_data"
    }
   ],
   "source": [
    "plt.figure(figsize=(12, 7))\n",
    "data = train[['month', 'avg_price_sqm']]\n",
    "X, y = for_reg(data, 2)\n",
    "model = LinearRegression()\n",
    "model.fit(X, y)\n",
    "to_pred = list(range(0, 1200, 30))\n",
    "to_draw = [mm + pd.Timedelta(days=d) for d in to_pred]\n",
    "plt.plot(to_draw, model.predict(to_mat(to_pred, 2)))"
   ]
  },
  {
   "cell_type": "code",
   "execution_count": 148,
   "metadata": {},
   "outputs": [],
   "source": [
    "from utils.pipeline import get_data"
   ]
  },
  {
   "cell_type": "code",
   "execution_count": 4,
   "metadata": {},
   "outputs": [],
   "source": [
    "base, train, test, sample = load_data()\n",
    "data = get_data(train, base, test, 0.2, path='utils/')"
   ]
  },
  {
   "cell_type": "code",
   "execution_count": 7,
   "metadata": {},
   "outputs": [
    {
     "data": {
      "text/html": [
       "<div>\n",
       "<style scoped>\n",
       "    .dataframe tbody tr th:only-of-type {\n",
       "        vertical-align: middle;\n",
       "    }\n",
       "\n",
       "    .dataframe tbody tr th {\n",
       "        vertical-align: top;\n",
       "    }\n",
       "\n",
       "    .dataframe thead th {\n",
       "        text-align: right;\n",
       "    }\n",
       "</style>\n",
       "<table border=\"1\" class=\"dataframe\">\n",
       "  <thead>\n",
       "    <tr style=\"text-align: right;\">\n",
       "      <th></th>\n",
       "      <th>month</th>\n",
       "      <th>city_quadkey</th>\n",
       "      <th>beauty_cnt</th>\n",
       "      <th>shopping_cnt</th>\n",
       "      <th>cafe_restaurant_eating_out_cnt</th>\n",
       "      <th>entertainment_cnt</th>\n",
       "      <th>sport_cnt</th>\n",
       "      <th>chain_cnt</th>\n",
       "      <th>groceries_and_everyday_items_cnt</th>\n",
       "      <th>art_cnt</th>\n",
       "      <th>...</th>\n",
       "      <th>unique_active_buildings_count</th>\n",
       "      <th>unique_active_building_series_count</th>\n",
       "      <th>rooms_offered_3_ratio</th>\n",
       "      <th>rooms_offered_4_more_ratio</th>\n",
       "      <th>rooms_offered_1_ratio</th>\n",
       "      <th>total_area_avg</th>\n",
       "      <th>studio_ratio</th>\n",
       "      <th>offer_count</th>\n",
       "      <th>rooms_offered_2_ratio</th>\n",
       "      <th>month_id</th>\n",
       "    </tr>\n",
       "  </thead>\n",
       "  <tbody>\n",
       "    <tr>\n",
       "      <th>0</th>\n",
       "      <td>2018-02-01</td>\n",
       "      <td>120132230303223</td>\n",
       "      <td>0.0</td>\n",
       "      <td>0.0</td>\n",
       "      <td>0.0</td>\n",
       "      <td>0.0</td>\n",
       "      <td>1.0</td>\n",
       "      <td>1.0</td>\n",
       "      <td>0.0</td>\n",
       "      <td>0.0</td>\n",
       "      <td>...</td>\n",
       "      <td>1.00000</td>\n",
       "      <td>1.0</td>\n",
       "      <td>0.000000</td>\n",
       "      <td>0.0</td>\n",
       "      <td>0.000000</td>\n",
       "      <td>44.0000</td>\n",
       "      <td>0.0</td>\n",
       "      <td>1.0000</td>\n",
       "      <td>1.000000</td>\n",
       "      <td>2</td>\n",
       "    </tr>\n",
       "    <tr>\n",
       "      <th>1</th>\n",
       "      <td>2018-03-01</td>\n",
       "      <td>120132230303223</td>\n",
       "      <td>0.0</td>\n",
       "      <td>0.0</td>\n",
       "      <td>0.0</td>\n",
       "      <td>0.0</td>\n",
       "      <td>1.0</td>\n",
       "      <td>1.0</td>\n",
       "      <td>0.0</td>\n",
       "      <td>0.0</td>\n",
       "      <td>...</td>\n",
       "      <td>1.00000</td>\n",
       "      <td>1.0</td>\n",
       "      <td>0.000000</td>\n",
       "      <td>0.0</td>\n",
       "      <td>0.000000</td>\n",
       "      <td>44.0000</td>\n",
       "      <td>0.0</td>\n",
       "      <td>1.0000</td>\n",
       "      <td>1.000000</td>\n",
       "      <td>3</td>\n",
       "    </tr>\n",
       "    <tr>\n",
       "      <th>2</th>\n",
       "      <td>2018-06-01</td>\n",
       "      <td>120132230332230</td>\n",
       "      <td>0.0</td>\n",
       "      <td>0.0</td>\n",
       "      <td>0.0</td>\n",
       "      <td>0.0</td>\n",
       "      <td>0.0</td>\n",
       "      <td>1.0</td>\n",
       "      <td>0.0</td>\n",
       "      <td>3.0</td>\n",
       "      <td>...</td>\n",
       "      <td>1.00000</td>\n",
       "      <td>1.0</td>\n",
       "      <td>0.000000</td>\n",
       "      <td>0.0</td>\n",
       "      <td>1.000000</td>\n",
       "      <td>34.5000</td>\n",
       "      <td>0.0</td>\n",
       "      <td>1.0000</td>\n",
       "      <td>0.000000</td>\n",
       "      <td>6</td>\n",
       "    </tr>\n",
       "    <tr>\n",
       "      <th>3</th>\n",
       "      <td>2018-07-01</td>\n",
       "      <td>120132230332230</td>\n",
       "      <td>0.0</td>\n",
       "      <td>0.0</td>\n",
       "      <td>0.0</td>\n",
       "      <td>0.0</td>\n",
       "      <td>0.0</td>\n",
       "      <td>1.0</td>\n",
       "      <td>0.0</td>\n",
       "      <td>3.0</td>\n",
       "      <td>...</td>\n",
       "      <td>1.00000</td>\n",
       "      <td>1.0</td>\n",
       "      <td>0.000000</td>\n",
       "      <td>0.0</td>\n",
       "      <td>1.000000</td>\n",
       "      <td>34.5000</td>\n",
       "      <td>0.0</td>\n",
       "      <td>1.0000</td>\n",
       "      <td>0.000000</td>\n",
       "      <td>7</td>\n",
       "    </tr>\n",
       "    <tr>\n",
       "      <th>4</th>\n",
       "      <td>2017-01-01</td>\n",
       "      <td>120132231322113</td>\n",
       "      <td>0.0</td>\n",
       "      <td>0.0</td>\n",
       "      <td>0.0</td>\n",
       "      <td>1.0</td>\n",
       "      <td>2.0</td>\n",
       "      <td>2.0</td>\n",
       "      <td>1.0</td>\n",
       "      <td>1.0</td>\n",
       "      <td>...</td>\n",
       "      <td>3.34375</td>\n",
       "      <td>1.0</td>\n",
       "      <td>0.692057</td>\n",
       "      <td>0.0</td>\n",
       "      <td>0.198412</td>\n",
       "      <td>51.7616</td>\n",
       "      <td>0.0</td>\n",
       "      <td>7.9375</td>\n",
       "      <td>0.109532</td>\n",
       "      <td>1</td>\n",
       "    </tr>\n",
       "  </tbody>\n",
       "</table>\n",
       "<p>5 rows × 47 columns</p>\n",
       "</div>"
      ],
      "text/plain": [
       "        month     city_quadkey  beauty_cnt  shopping_cnt  \\\n",
       "0  2018-02-01  120132230303223         0.0           0.0   \n",
       "1  2018-03-01  120132230303223         0.0           0.0   \n",
       "2  2018-06-01  120132230332230         0.0           0.0   \n",
       "3  2018-07-01  120132230332230         0.0           0.0   \n",
       "4  2017-01-01  120132231322113         0.0           0.0   \n",
       "\n",
       "   cafe_restaurant_eating_out_cnt  entertainment_cnt  sport_cnt  chain_cnt  \\\n",
       "0                             0.0                0.0        1.0        1.0   \n",
       "1                             0.0                0.0        1.0        1.0   \n",
       "2                             0.0                0.0        0.0        1.0   \n",
       "3                             0.0                0.0        0.0        1.0   \n",
       "4                             0.0                1.0        2.0        2.0   \n",
       "\n",
       "   groceries_and_everyday_items_cnt  art_cnt  ...  \\\n",
       "0                               0.0      0.0  ...   \n",
       "1                               0.0      0.0  ...   \n",
       "2                               0.0      3.0  ...   \n",
       "3                               0.0      3.0  ...   \n",
       "4                               1.0      1.0  ...   \n",
       "\n",
       "   unique_active_buildings_count  unique_active_building_series_count  \\\n",
       "0                        1.00000                                  1.0   \n",
       "1                        1.00000                                  1.0   \n",
       "2                        1.00000                                  1.0   \n",
       "3                        1.00000                                  1.0   \n",
       "4                        3.34375                                  1.0   \n",
       "\n",
       "   rooms_offered_3_ratio  rooms_offered_4_more_ratio  rooms_offered_1_ratio  \\\n",
       "0               0.000000                         0.0               0.000000   \n",
       "1               0.000000                         0.0               0.000000   \n",
       "2               0.000000                         0.0               1.000000   \n",
       "3               0.000000                         0.0               1.000000   \n",
       "4               0.692057                         0.0               0.198412   \n",
       "\n",
       "   total_area_avg  studio_ratio  offer_count  rooms_offered_2_ratio  month_id  \n",
       "0         44.0000           0.0       1.0000               1.000000         2  \n",
       "1         44.0000           0.0       1.0000               1.000000         3  \n",
       "2         34.5000           0.0       1.0000               0.000000         6  \n",
       "3         34.5000           0.0       1.0000               0.000000         7  \n",
       "4         51.7616           0.0       7.9375               0.109532         1  \n",
       "\n",
       "[5 rows x 47 columns]"
      ]
     },
     "execution_count": 7,
     "metadata": {},
     "output_type": "execute_result"
    }
   ],
   "source": [
    "data[0][0].head()"
   ]
  },
  {
   "cell_type": "code",
   "execution_count": 38,
   "metadata": {},
   "outputs": [
    {
     "name": "stderr",
     "output_type": "stream",
     "text": [
      "/home/data_sapiens/Anaconda/lib/python3.7/site-packages/ipykernel_launcher.py:2: SettingWithCopyWarning: \n",
      "A value is trying to be set on a copy of a slice from a DataFrame.\n",
      "Try using .loc[row_indexer,col_indexer] = value instead\n",
      "\n",
      "See the caveats in the documentation: https://pandas.pydata.org/pandas-docs/stable/user_guide/indexing.html#returning-a-view-versus-a-copy\n",
      "  \n",
      "/home/data_sapiens/Anaconda/lib/python3.7/site-packages/ipykernel_launcher.py:3: SettingWithCopyWarning: \n",
      "A value is trying to be set on a copy of a slice from a DataFrame.\n",
      "Try using .loc[row_indexer,col_indexer] = value instead\n",
      "\n",
      "See the caveats in the documentation: https://pandas.pydata.org/pandas-docs/stable/user_guide/indexing.html#returning-a-view-versus-a-copy\n",
      "  This is separate from the ipykernel package so we can avoid doing imports until\n"
     ]
    }
   ],
   "source": [
    "temp = data[0][0][['city_quadkey', 'month']]\n",
    "temp['y'] = data[0][1]\n",
    "temp['month'] = temp['month'].apply(pd.to_datetime)"
   ]
  },
  {
   "cell_type": "code",
   "execution_count": 22,
   "metadata": {},
   "outputs": [
    {
     "data": {
      "text/html": [
       "<div>\n",
       "<style scoped>\n",
       "    .dataframe tbody tr th:only-of-type {\n",
       "        vertical-align: middle;\n",
       "    }\n",
       "\n",
       "    .dataframe tbody tr th {\n",
       "        vertical-align: top;\n",
       "    }\n",
       "\n",
       "    .dataframe thead th {\n",
       "        text-align: right;\n",
       "    }\n",
       "</style>\n",
       "<table border=\"1\" class=\"dataframe\">\n",
       "  <thead>\n",
       "    <tr style=\"text-align: right;\">\n",
       "      <th></th>\n",
       "      <th>city_quadkey</th>\n",
       "      <th>month</th>\n",
       "      <th>y</th>\n",
       "    </tr>\n",
       "  </thead>\n",
       "  <tbody>\n",
       "    <tr>\n",
       "      <th>0</th>\n",
       "      <td>120132230303223</td>\n",
       "      <td>2018-02-01</td>\n",
       "      <td>22727.273438</td>\n",
       "    </tr>\n",
       "    <tr>\n",
       "      <th>1</th>\n",
       "      <td>120132230303223</td>\n",
       "      <td>2018-03-01</td>\n",
       "      <td>22727.273438</td>\n",
       "    </tr>\n",
       "    <tr>\n",
       "      <th>2</th>\n",
       "      <td>120132230332230</td>\n",
       "      <td>2018-06-01</td>\n",
       "      <td>43478.261719</td>\n",
       "    </tr>\n",
       "    <tr>\n",
       "      <th>3</th>\n",
       "      <td>120132230332230</td>\n",
       "      <td>2018-07-01</td>\n",
       "      <td>43478.261719</td>\n",
       "    </tr>\n",
       "    <tr>\n",
       "      <th>4</th>\n",
       "      <td>120132231322113</td>\n",
       "      <td>2017-01-01</td>\n",
       "      <td>36250.000000</td>\n",
       "    </tr>\n",
       "    <tr>\n",
       "      <th>...</th>\n",
       "      <td>...</td>\n",
       "      <td>...</td>\n",
       "      <td>...</td>\n",
       "    </tr>\n",
       "    <tr>\n",
       "      <th>132816</th>\n",
       "      <td>120310110110101</td>\n",
       "      <td>2018-01-01</td>\n",
       "      <td>49090.910156</td>\n",
       "    </tr>\n",
       "    <tr>\n",
       "      <th>132817</th>\n",
       "      <td>120310110110101</td>\n",
       "      <td>2018-02-01</td>\n",
       "      <td>49090.910156</td>\n",
       "    </tr>\n",
       "    <tr>\n",
       "      <th>132818</th>\n",
       "      <td>120310110110101</td>\n",
       "      <td>2018-03-01</td>\n",
       "      <td>49090.910156</td>\n",
       "    </tr>\n",
       "    <tr>\n",
       "      <th>132819</th>\n",
       "      <td>120310110110101</td>\n",
       "      <td>2018-04-01</td>\n",
       "      <td>42834.929688</td>\n",
       "    </tr>\n",
       "    <tr>\n",
       "      <th>132820</th>\n",
       "      <td>120310110110101</td>\n",
       "      <td>2018-05-01</td>\n",
       "      <td>49090.910156</td>\n",
       "    </tr>\n",
       "  </tbody>\n",
       "</table>\n",
       "<p>132821 rows × 3 columns</p>\n",
       "</div>"
      ],
      "text/plain": [
       "           city_quadkey       month             y\n",
       "0       120132230303223  2018-02-01  22727.273438\n",
       "1       120132230303223  2018-03-01  22727.273438\n",
       "2       120132230332230  2018-06-01  43478.261719\n",
       "3       120132230332230  2018-07-01  43478.261719\n",
       "4       120132231322113  2017-01-01  36250.000000\n",
       "...                 ...         ...           ...\n",
       "132816  120310110110101  2018-01-01  49090.910156\n",
       "132817  120310110110101  2018-02-01  49090.910156\n",
       "132818  120310110110101  2018-03-01  49090.910156\n",
       "132819  120310110110101  2018-04-01  42834.929688\n",
       "132820  120310110110101  2018-05-01  49090.910156\n",
       "\n",
       "[132821 rows x 3 columns]"
      ]
     },
     "execution_count": 22,
     "metadata": {},
     "output_type": "execute_result"
    }
   ],
   "source": [
    "temp"
   ]
  },
  {
   "cell_type": "code",
   "execution_count": 51,
   "metadata": {},
   "outputs": [
    {
     "data": {
      "text/plain": [
       "26992.998922107225"
      ]
     },
     "execution_count": 51,
     "metadata": {},
     "output_type": "execute_result"
    }
   ],
   "source": [
    "from sklearn.linear_model import LinearRegression\n",
    "\n",
    "(model.coef_ * np.array([5, 25])).sum() + model.intercept_"
   ]
  },
  {
   "cell_type": "code",
   "execution_count": 52,
   "metadata": {},
   "outputs": [
    {
     "data": {
      "text/plain": [
       "array([26992.99892211])"
      ]
     },
     "execution_count": 52,
     "metadata": {},
     "output_type": "execute_result"
    }
   ],
   "source": [
    "model.predict([[5, 25]])"
   ]
  },
  {
   "cell_type": "code",
   "execution_count": 103,
   "metadata": {},
   "outputs": [
    {
     "data": {
      "text/html": [
       "<div>\n",
       "<style scoped>\n",
       "    .dataframe tbody tr th:only-of-type {\n",
       "        vertical-align: middle;\n",
       "    }\n",
       "\n",
       "    .dataframe tbody tr th {\n",
       "        vertical-align: top;\n",
       "    }\n",
       "\n",
       "    .dataframe thead th {\n",
       "        text-align: right;\n",
       "    }\n",
       "</style>\n",
       "<table border=\"1\" class=\"dataframe\">\n",
       "  <thead>\n",
       "    <tr style=\"text-align: right;\">\n",
       "      <th></th>\n",
       "      <th>city_quadkey</th>\n",
       "      <th>bias</th>\n",
       "      <th>c1</th>\n",
       "      <th>c2</th>\n",
       "    </tr>\n",
       "  </thead>\n",
       "  <tbody>\n",
       "  </tbody>\n",
       "</table>\n",
       "</div>"
      ],
      "text/plain": [
       "Empty DataFrame\n",
       "Columns: [city_quadkey, bias, c1, c2]\n",
       "Index: []"
      ]
     },
     "execution_count": 103,
     "metadata": {},
     "output_type": "execute_result"
    }
   ],
   "source": [
    "ans = pd.DataFrame(columns=['city_quadkey', 'bias', 'c1', 'c2'])\n",
    "ans"
   ]
  },
  {
   "cell_type": "code",
   "execution_count": 49,
   "metadata": {},
   "outputs": [
    {
     "data": {
      "text/plain": [
       "LinearRegression(copy_X=True, fit_intercept=True, n_jobs=None, normalize=False)"
      ]
     },
     "execution_count": 49,
     "metadata": {},
     "output_type": "execute_result"
    }
   ],
   "source": [
    "here = temp[temp['city_quadkey'] == key]\n",
    "X, y = for_reg(here.drop('city_quadkey', axis=1), 2)\n",
    "model = LinearRegression()\n",
    "model.fit(X, y)"
   ]
  },
  {
   "cell_type": "code",
   "execution_count": 104,
   "metadata": {},
   "outputs": [
    {
     "data": {
      "application/vnd.jupyter.widget-view+json": {
       "model_id": "66934df706ec49f196478f0617c9c5dd",
       "version_major": 2,
       "version_minor": 0
      },
      "text/plain": [
       "HBox(children=(IntProgress(value=0, max=5512), HTML(value='')))"
      ]
     },
     "metadata": {},
     "output_type": "display_data"
    },
    {
     "name": "stdout",
     "output_type": "stream",
     "text": [
      "\n"
     ]
    }
   ],
   "source": [
    "from time import sleep\n",
    "\n",
    "qk = data[0][0]['city_quadkey'].unique()\n",
    "\n",
    "from tqdm import tqdm_notebook as tqdm\n",
    "\n",
    "for key in tqdm(qk):\n",
    "    here = temp[temp['city_quadkey'] == key]\n",
    "    X, y = for_reg(here.drop('city_quadkey', axis=1), 2)\n",
    "    model = LinearRegression()\n",
    "    model.fit(X, y)\n",
    "    ans = ans.append({'city_quadkey': key, 'bias': model.intercept_, 'c1': model.coef_[0], 'c2': model.coef_[1]},\n",
    "              ignore_index=True)"
   ]
  },
  {
   "cell_type": "code",
   "execution_count": 62,
   "metadata": {},
   "outputs": [],
   "source": [
    "ans = ans.set_index('city_quadkey')"
   ]
  },
  {
   "cell_type": "code",
   "execution_count": 78,
   "metadata": {},
   "outputs": [
    {
     "name": "stdout",
     "output_type": "stream",
     "text": [
      "(32, 15)\n"
     ]
    },
    {
     "data": {
      "text/plain": [
       "<matplotlib.collections.PathCollection at 0x7feb5202a358>"
      ]
     },
     "execution_count": 78,
     "metadata": {},
     "output_type": "execute_result"
    },
    {
     "data": {
      "image/png": "[encoded data removed]",
      "text/plain": [
       "<Figure size 864x504 with 1 Axes>"
      ]
     },
     "metadata": {
      "needs_background": "light"
     },
     "output_type": "display_data"
    }
   ],
   "source": [
    "plt.figure(figsize=(12, 7))\n",
    "now = random.choice(qk)\n",
    "print(train[train['city_quadkey'] == now].shape)\n",
    "    \n",
    "co = ans.loc[now]\n",
    "\n",
    "mm = pd.Timestamp(year=2017, month=1, day=1)\n",
    "    \n",
    "to_pred = np.array(list(range(0, 1200, 30)))\n",
    "to_draw = [mm + pd.Timedelta(days=d) for d in to_pred]\n",
    "plt.plot(to_draw, to_pred * co['c1'] + to_pred * to_pred * co['c2'] + co['bias'])\n",
    "    \n",
    "plt.scatter(temp[temp['city_quadkey'] == now]['month'], temp[temp['city_quadkey'] == now]['y'])"
   ]
  },
  {
   "cell_type": "code",
   "execution_count": 82,
   "metadata": {},
   "outputs": [],
   "source": [
    "data[0][0]['month'] = data[0][0]['month'].apply(pd.to_datetime)\n",
    "data[1][0]['month'] = data[1][0]['month'].apply(pd.to_datetime)\n",
    "data[2]['month'] = data[2]['month'].apply(pd.to_datetime)"
   ]
  },
  {
   "cell_type": "code",
   "execution_count": 96,
   "metadata": {
    "collapsed": true
   },
   "outputs": [
    {
     "name": "stderr",
     "output_type": "stream",
     "text": [
      "/home/data_sapiens/Anaconda/lib/python3.7/site-packages/ipykernel_launcher.py:2: SettingWithCopyWarning: \n",
      "A value is trying to be set on a copy of a slice from a DataFrame.\n",
      "Try using .loc[row_indexer,col_indexer] = value instead\n",
      "\n",
      "See the caveats in the documentation: https://pandas.pydata.org/pandas-docs/stable/user_guide/indexing.html#returning-a-view-versus-a-copy\n",
      "  \n",
      "/home/data_sapiens/Anaconda/lib/python3.7/site-packages/ipykernel_launcher.py:3: SettingWithCopyWarning: \n",
      "A value is trying to be set on a copy of a slice from a DataFrame.\n",
      "Try using .loc[row_indexer,col_indexer] = value instead\n",
      "\n",
      "See the caveats in the documentation: https://pandas.pydata.org/pandas-docs/stable/user_guide/indexing.html#returning-a-view-versus-a-copy\n",
      "  This is separate from the ipykernel package so we can avoid doing imports until\n"
     ]
    },
    {
     "data": {
      "text/plain": [
       "LinearRegression(copy_X=True, fit_intercept=True, n_jobs=None, normalize=False)"
      ]
     },
     "execution_count": 96,
     "metadata": {},
     "output_type": "execute_result"
    }
   ],
   "source": [
    "temp = data[0][0][['city_quadkey', 'month']]\n",
    "temp['y'] = data[0][1]\n",
    "temp['month'] = temp['month'].apply(pd.to_datetime)\n",
    "\n",
    "here = temp[temp['city_quadkey'] == key]\n",
    "X, y = for_reg(here.drop('city_quadkey', axis=1), 2)\n",
    "model = LinearRegression()\n",
    "model.fit(X, y)"
   ]
  },
  {
   "cell_type": "code",
   "execution_count": 99,
   "metadata": {},
   "outputs": [],
   "source": [
    "meta_bias = model.intercept_\n",
    "meta_c1 = model.coef_[0]\n",
    "meta_c2 = model.coef_[1]"
   ]
  },
  {
   "cell_type": "code",
   "execution_count": 98,
   "metadata": {},
   "outputs": [
    {
     "data": {
      "text/plain": [
       "[<matplotlib.lines.Line2D at 0x7feb51cfac50>]"
      ]
     },
     "execution_count": 98,
     "metadata": {},
     "output_type": "execute_result"
    },
    {
     "data": {
      "image/png": "[encoded data removed]",
      "text/plain": [
       "<Figure size 864x504 with 1 Axes>"
      ]
     },
     "metadata": {
      "needs_background": "light"
     },
     "output_type": "display_data"
    }
   ],
   "source": [
    "plt.figure(figsize=(12, 7))\n",
    "to_pred = list(range(0, 1200, 30))\n",
    "to_draw = [mm + pd.Timedelta(days=d) for d in to_pred]\n",
    "plt.plot(to_draw, model.predict(to_mat(to_pred, 2)))"
   ]
  },
  {
   "cell_type": "code",
   "execution_count": 109,
   "metadata": {},
   "outputs": [],
   "source": [
    "ans = ans.join(data[0][0].groupby('city_quadkey').count()['month'], on='city_quadkey')"
   ]
  },
  {
   "cell_type": "code",
   "execution_count": 121,
   "metadata": {},
   "outputs": [],
   "source": [
    "ans = ans.set_index('city_quadkey')"
   ]
  },
  {
   "cell_type": "code",
   "execution_count": 128,
   "metadata": {},
   "outputs": [],
   "source": [
    "for key in ans.index:\n",
    "    if ans.loc[key]['month'] < 10:\n",
    "        ans.loc[key, 'bias'] = meta_bias\n",
    "        ans.loc[key, 'c1'] = meta_c1\n",
    "        ans.loc[key, 'c2'] = meta_c2"
   ]
  },
  {
   "cell_type": "code",
   "execution_count": 130,
   "metadata": {},
   "outputs": [],
   "source": [
    "ans.drop('month', axis=1, inplace=True)"
   ]
  },
  {
   "cell_type": "code",
   "execution_count": 120,
   "metadata": {},
   "outputs": [
    {
     "data": {
      "text/plain": [
       "city_quadkey    1.201322e+14\n",
       "bias            2.272727e+04\n",
       "c1              0.000000e+00\n",
       "c2              0.000000e+00\n",
       "month           2.000000e+00\n",
       "Name: 0, dtype: float64"
      ]
     },
     "execution_count": 120,
     "metadata": {},
     "output_type": "execute_result"
    }
   ],
   "source": [
    "row[1]"
   ]
  },
  {
   "cell_type": "code",
   "execution_count": 175,
   "metadata": {},
   "outputs": [],
   "source": [
    "def proc(dset):\n",
    "    dset = dset.join(ans, on='city_quadkey')\n",
    "    dset['days'] = dset['month'].apply(month_to_days)\n",
    "    dset['c1'].fillna(meta_c1, inplace=True)\n",
    "    dset['c2'].fillna(meta_c2, inplace=True)\n",
    "    dset['bias'].fillna(meta_bias, inplace=True)\n",
    "    pred = dset['days'] * dset['c1'] + dset['days'] * dset['days'] * dset['c2'] + dset['bias']\n",
    "    dset.drop(['days', 'month', 'city_quadkey', 'c1', 'c2', 'bias'], axis=1, inplace=True)\n",
    "    \n",
    "    return dset, pred"
   ]
  },
  {
   "cell_type": "code",
   "execution_count": 176,
   "metadata": {},
   "outputs": [],
   "source": [
    "traX, traY = proc(data[0][0])"
   ]
  },
  {
   "cell_type": "code",
   "execution_count": 178,
   "metadata": {},
   "outputs": [],
   "source": [
    "traR, traN = data[0][1], data[0][1] / traY\n",
    "vaR, vaN = data[1][1], data[1][1] / vaY"
   ]
  },
  {
   "cell_type": "code",
   "execution_count": 177,
   "metadata": {},
   "outputs": [],
   "source": [
    "vaX, vaY = proc(data[1][0])\n",
    "teX, teY = proc(data[2])"
   ]
  },
  {
   "cell_type": "code",
   "execution_count": 167,
   "metadata": {},
   "outputs": [],
   "source": [
    "def xgbmape_norm(y_pred, y_true):\n",
    "    gt = y_true.get_label()\n",
    "    if len(gt) == len(traN):\n",
    "        gt = traR\n",
    "        y_pred = y_pred * traY\n",
    "    elif len(gt) == len(vaN):\n",
    "        gt = vaR\n",
    "        y_ored = y_pred * vaY\n",
    "    else:\n",
    "        print('Oops!')\n",
    "    return 'mape', np.mean(np.abs((gt - y_pred) / gt)) * 100"
   ]
  },
  {
   "cell_type": "code",
   "execution_count": 146,
   "metadata": {},
   "outputs": [
    {
     "data": {
      "text/plain": [
       "0         3.0\n",
       "1         3.0\n",
       "2         3.0\n",
       "3         3.0\n",
       "4         3.0\n",
       "         ... \n",
       "132816    8.0\n",
       "132817    8.0\n",
       "132818    8.0\n",
       "132819    8.0\n",
       "132820    8.0\n",
       "Name: line_color, Length: 132821, dtype: float64"
      ]
     },
     "execution_count": 146,
     "metadata": {},
     "output_type": "execute_result"
    }
   ],
   "source": [
    "traX['line_color'].apply(float)"
   ]
  },
  {
   "cell_type": "code",
   "execution_count": 161,
   "metadata": {},
   "outputs": [
    {
     "data": {
      "text/plain": [
       "(33206,)"
      ]
     },
     "execution_count": 161,
     "metadata": {},
     "output_type": "execute_result"
    }
   ],
   "source": [
    "vaN.shape"
   ]
  },
  {
   "cell_type": "code",
   "execution_count": 169,
   "metadata": {},
   "outputs": [],
   "source": [
    "def xgbmape(y_pred, y_true):\n",
    "    gt = y_true.get_label()\n",
    "    return 'mape', np.mean(np.abs((gt - y_pred) / gt)) * 100\n"
   ]
  },
  {
   "cell_type": "code",
   "execution_count": 174,
   "metadata": {},
   "outputs": [],
   "source": [
    "vaY = data[1][1]"
   ]
  },
  {
   "cell_type": "code",
   "execution_count": 181,
   "metadata": {},
   "outputs": [
    {
     "name": "stdout",
     "output_type": "stream",
     "text": [
      "[02:28:17] WARNING: /workspace/src/objective/regression_obj.cu:152: reg:linear is now deprecated in favor of reg:squarederror.\n",
      "[0]\tvalidation_0-rmse:0.460947\tvalidation_1-rmse:0.172444\tvalidation_0-mape:44.79\tvalidation_1-mape:37.5947\n",
      "[1]\tvalidation_0-rmse:0.416787\tvalidation_1-rmse:0.174296\tvalidation_0-mape:40.4899\tvalidation_1-mape:39.4552\n",
      "[2]\tvalidation_0-rmse:0.377211\tvalidation_1-rmse:0.178327\tvalidation_0-mape:36.6326\tvalidation_1-mape:41.8728\n",
      "[3]\tvalidation_0-rmse:0.341763\tvalidation_1-rmse:0.18947\tvalidation_0-mape:33.1719\tvalidation_1-mape:45.3081\n",
      "[4]\tvalidation_0-rmse:0.310014\tvalidation_1-rmse:0.203615\tvalidation_0-mape:30.0623\tvalidation_1-mape:49.1681\n",
      "[5]\tvalidation_0-rmse:0.281643\tvalidation_1-rmse:0.217729\tvalidation_0-mape:27.2818\tvalidation_1-mape:53.0022\n",
      "[6]\tvalidation_0-rmse:0.256293\tvalidation_1-rmse:0.231545\tvalidation_0-mape:24.7805\tvalidation_1-mape:56.6237\n",
      "[7]\tvalidation_0-rmse:0.233648\tvalidation_1-rmse:0.24593\tvalidation_0-mape:22.518\tvalidation_1-mape:60.0457\n",
      "[8]\tvalidation_0-rmse:0.213549\tvalidation_1-rmse:0.246862\tvalidation_0-mape:20.4995\tvalidation_1-mape:60.4401\n",
      "[9]\tvalidation_0-rmse:0.195608\tvalidation_1-rmse:0.246769\tvalidation_0-mape:18.6663\tvalidation_1-mape:60.1552\n",
      "[10]\tvalidation_0-rmse:0.179833\tvalidation_1-rmse:0.255051\tvalidation_0-mape:17.0516\tvalidation_1-mape:62.284\n",
      "[11]\tvalidation_0-rmse:0.165865\tvalidation_1-rmse:0.273114\tvalidation_0-mape:15.5919\tvalidation_1-mape:66.4183\n",
      "[12]\tvalidation_0-rmse:0.153622\tvalidation_1-rmse:0.28462\tvalidation_0-mape:14.2886\tvalidation_1-mape:69.3166\n",
      "[13]\tvalidation_0-rmse:0.142919\tvalidation_1-rmse:0.295198\tvalidation_0-mape:13.1261\tvalidation_1-mape:71.9594\n",
      "[14]\tvalidation_0-rmse:0.133312\tvalidation_1-rmse:0.302269\tvalidation_0-mape:12.0805\tvalidation_1-mape:73.6089\n",
      "[15]\tvalidation_0-rmse:0.125146\tvalidation_1-rmse:0.310521\tvalidation_0-mape:11.1487\tvalidation_1-mape:75.617\n",
      "[16]\tvalidation_0-rmse:0.117801\tvalidation_1-rmse:0.316812\tvalidation_0-mape:10.315\tvalidation_1-mape:77.0864\n",
      "[17]\tvalidation_0-rmse:0.111666\tvalidation_1-rmse:0.324065\tvalidation_0-mape:9.57872\tvalidation_1-mape:78.8962\n",
      "[18]\tvalidation_0-rmse:0.106457\tvalidation_1-rmse:0.32948\tvalidation_0-mape:8.93077\tvalidation_1-mape:80.1234\n",
      "[19]\tvalidation_0-rmse:0.101791\tvalidation_1-rmse:0.332201\tvalidation_0-mape:8.35505\tvalidation_1-mape:80.8032\n",
      "[20]\tvalidation_0-rmse:0.097883\tvalidation_1-rmse:0.326722\tvalidation_0-mape:7.84091\tvalidation_1-mape:79.5785\n",
      "[21]\tvalidation_0-rmse:0.094671\tvalidation_1-rmse:0.331763\tvalidation_0-mape:7.39396\tvalidation_1-mape:80.7311\n",
      "[22]\tvalidation_0-rmse:0.09191\tvalidation_1-rmse:0.336207\tvalidation_0-mape:7.00376\tvalidation_1-mape:81.8242\n",
      "[23]\tvalidation_0-rmse:0.08951\tvalidation_1-rmse:0.341465\tvalidation_0-mape:6.66327\tvalidation_1-mape:83.0547\n",
      "[24]\tvalidation_0-rmse:0.087606\tvalidation_1-rmse:0.345998\tvalidation_0-mape:6.36512\tvalidation_1-mape:84.1734\n",
      "[25]\tvalidation_0-rmse:0.085932\tvalidation_1-rmse:0.39527\tvalidation_0-mape:6.10944\tvalidation_1-mape:94.962\n",
      "[26]\tvalidation_0-rmse:0.084543\tvalidation_1-rmse:0.39797\tvalidation_0-mape:5.88487\tvalidation_1-mape:95.6039\n",
      "[27]\tvalidation_0-rmse:0.083443\tvalidation_1-rmse:0.4003\tvalidation_0-mape:5.69738\tvalidation_1-mape:96.1398\n",
      "[28]\tvalidation_0-rmse:0.082288\tvalidation_1-rmse:0.413335\tvalidation_0-mape:5.53041\tvalidation_1-mape:98.5077\n",
      "[29]\tvalidation_0-rmse:0.081252\tvalidation_1-rmse:0.417832\tvalidation_0-mape:5.38858\tvalidation_1-mape:100.147\n",
      "[30]\tvalidation_0-rmse:0.080553\tvalidation_1-rmse:0.419062\tvalidation_0-mape:5.27074\tvalidation_1-mape:100.449\n",
      "[31]\tvalidation_0-rmse:0.079973\tvalidation_1-rmse:0.423441\tvalidation_0-mape:5.17442\tvalidation_1-mape:101.927\n",
      "[32]\tvalidation_0-rmse:0.079346\tvalidation_1-rmse:0.427743\tvalidation_0-mape:5.08495\tvalidation_1-mape:103.279\n",
      "[33]\tvalidation_0-rmse:0.078798\tvalidation_1-rmse:0.429903\tvalidation_0-mape:5.00328\tvalidation_1-mape:103.789\n",
      "[34]\tvalidation_0-rmse:0.077977\tvalidation_1-rmse:0.429256\tvalidation_0-mape:4.91983\tvalidation_1-mape:103.48\n",
      "[35]\tvalidation_0-rmse:0.077615\tvalidation_1-rmse:0.433998\tvalidation_0-mape:4.87054\tvalidation_1-mape:104.846\n",
      "[36]\tvalidation_0-rmse:0.077369\tvalidation_1-rmse:0.433523\tvalidation_0-mape:4.83035\tvalidation_1-mape:104.729\n",
      "[37]\tvalidation_0-rmse:0.077004\tvalidation_1-rmse:0.435413\tvalidation_0-mape:4.78325\tvalidation_1-mape:105.152\n",
      "[38]\tvalidation_0-rmse:0.07683\tvalidation_1-rmse:0.438653\tvalidation_0-mape:4.7572\tvalidation_1-mape:106.108\n",
      "[39]\tvalidation_0-rmse:0.076512\tvalidation_1-rmse:0.438993\tvalidation_0-mape:4.72712\tvalidation_1-mape:106.201\n",
      "[40]\tvalidation_0-rmse:0.076355\tvalidation_1-rmse:0.440987\tvalidation_0-mape:4.70627\tvalidation_1-mape:106.67\n",
      "[41]\tvalidation_0-rmse:0.075829\tvalidation_1-rmse:0.428001\tvalidation_0-mape:4.67791\tvalidation_1-mape:103.513\n",
      "[42]\tvalidation_0-rmse:0.075704\tvalidation_1-rmse:0.431078\tvalidation_0-mape:4.66503\tvalidation_1-mape:104.323\n",
      "[43]\tvalidation_0-rmse:0.075486\tvalidation_1-rmse:0.435538\tvalidation_0-mape:4.64828\tvalidation_1-mape:105.512\n",
      "[44]\tvalidation_0-rmse:0.075272\tvalidation_1-rmse:0.435978\tvalidation_0-mape:4.63451\tvalidation_1-mape:105.622\n",
      "[45]\tvalidation_0-rmse:0.07478\tvalidation_1-rmse:0.434396\tvalidation_0-mape:4.61139\tvalidation_1-mape:105.215\n",
      "[46]\tvalidation_0-rmse:0.07428\tvalidation_1-rmse:0.432957\tvalidation_0-mape:4.58214\tvalidation_1-mape:104.544\n",
      "[47]\tvalidation_0-rmse:0.073743\tvalidation_1-rmse:0.432921\tvalidation_0-mape:4.56239\tvalidation_1-mape:104.516\n",
      "[48]\tvalidation_0-rmse:0.07325\tvalidation_1-rmse:0.424815\tvalidation_0-mape:4.52931\tvalidation_1-mape:102.229\n",
      "[49]\tvalidation_0-rmse:0.073146\tvalidation_1-rmse:0.428032\tvalidation_0-mape:4.52489\tvalidation_1-mape:103.022\n",
      "[50]\tvalidation_0-rmse:0.072883\tvalidation_1-rmse:0.428259\tvalidation_0-mape:4.50816\tvalidation_1-mape:103.08\n",
      "[51]\tvalidation_0-rmse:0.072576\tvalidation_1-rmse:0.427203\tvalidation_0-mape:4.49672\tvalidation_1-mape:102.817\n",
      "[52]\tvalidation_0-rmse:0.072136\tvalidation_1-rmse:0.427049\tvalidation_0-mape:4.47705\tvalidation_1-mape:102.732\n",
      "[53]\tvalidation_0-rmse:0.071769\tvalidation_1-rmse:0.423057\tvalidation_0-mape:4.45284\tvalidation_1-mape:101.55\n",
      "[54]\tvalidation_0-rmse:0.071548\tvalidation_1-rmse:0.421189\tvalidation_0-mape:4.43853\tvalidation_1-mape:100.839\n",
      "[55]\tvalidation_0-rmse:0.071385\tvalidation_1-rmse:0.420718\tvalidation_0-mape:4.42407\tvalidation_1-mape:100.603\n",
      "[56]\tvalidation_0-rmse:0.071186\tvalidation_1-rmse:0.421515\tvalidation_0-mape:4.41381\tvalidation_1-mape:100.787\n",
      "[57]\tvalidation_0-rmse:0.07085\tvalidation_1-rmse:0.421456\tvalidation_0-mape:4.3987\tvalidation_1-mape:100.745\n",
      "[58]\tvalidation_0-rmse:0.070458\tvalidation_1-rmse:0.424741\tvalidation_0-mape:4.37493\tvalidation_1-mape:100.876\n",
      "[59]\tvalidation_0-rmse:0.070315\tvalidation_1-rmse:0.425529\tvalidation_0-mape:4.36801\tvalidation_1-mape:101.031\n",
      "[60]\tvalidation_0-rmse:0.070145\tvalidation_1-rmse:0.425404\tvalidation_0-mape:4.35859\tvalidation_1-mape:100.977\n",
      "[61]\tvalidation_0-rmse:0.069856\tvalidation_1-rmse:0.425259\tvalidation_0-mape:4.34723\tvalidation_1-mape:100.903\n",
      "[62]\tvalidation_0-rmse:0.069791\tvalidation_1-rmse:0.424413\tvalidation_0-mape:4.34458\tvalidation_1-mape:100.632\n",
      "[63]\tvalidation_0-rmse:0.069663\tvalidation_1-rmse:0.424139\tvalidation_0-mape:4.33352\tvalidation_1-mape:100.552\n",
      "[64]\tvalidation_0-rmse:0.069274\tvalidation_1-rmse:0.424197\tvalidation_0-mape:4.31395\tvalidation_1-mape:100.566\n",
      "[65]\tvalidation_0-rmse:0.069145\tvalidation_1-rmse:0.423991\tvalidation_0-mape:4.30617\tvalidation_1-mape:100.455\n",
      "[66]\tvalidation_0-rmse:0.069109\tvalidation_1-rmse:0.424711\tvalidation_0-mape:4.30348\tvalidation_1-mape:100.611\n",
      "[67]\tvalidation_0-rmse:0.068883\tvalidation_1-rmse:0.422143\tvalidation_0-mape:4.28692\tvalidation_1-mape:99.8288\n",
      "[68]\tvalidation_0-rmse:0.068714\tvalidation_1-rmse:0.421005\tvalidation_0-mape:4.27916\tvalidation_1-mape:99.5409\n",
      "[69]\tvalidation_0-rmse:0.068649\tvalidation_1-rmse:0.421028\tvalidation_0-mape:4.27694\tvalidation_1-mape:99.5461\n",
      "[70]\tvalidation_0-rmse:0.068573\tvalidation_1-rmse:0.420884\tvalidation_0-mape:4.27351\tvalidation_1-mape:99.4591\n",
      "[71]\tvalidation_0-rmse:0.068532\tvalidation_1-rmse:0.423309\tvalidation_0-mape:4.27227\tvalidation_1-mape:100.058\n",
      "[72]\tvalidation_0-rmse:0.068464\tvalidation_1-rmse:0.423407\tvalidation_0-mape:4.26783\tvalidation_1-mape:100.093\n",
      "[73]\tvalidation_0-rmse:0.068399\tvalidation_1-rmse:0.422121\tvalidation_0-mape:4.26502\tvalidation_1-mape:99.7627\n"
     ]
    },
    {
     "name": "stdout",
     "output_type": "stream",
     "text": [
      "[74]\tvalidation_0-rmse:0.06836\tvalidation_1-rmse:0.424718\tvalidation_0-mape:4.26337\tvalidation_1-mape:100.405\n",
      "[75]\tvalidation_0-rmse:0.068198\tvalidation_1-rmse:0.423592\tvalidation_0-mape:4.25581\tvalidation_1-mape:100.149\n",
      "[76]\tvalidation_0-rmse:0.068031\tvalidation_1-rmse:0.421326\tvalidation_0-mape:4.24382\tvalidation_1-mape:99.4417\n",
      "[77]\tvalidation_0-rmse:0.06792\tvalidation_1-rmse:0.415943\tvalidation_0-mape:4.23538\tvalidation_1-mape:98.1049\n",
      "[78]\tvalidation_0-rmse:0.06764\tvalidation_1-rmse:0.416282\tvalidation_0-mape:4.22268\tvalidation_1-mape:98.1693\n",
      "[79]\tvalidation_0-rmse:0.067526\tvalidation_1-rmse:0.416478\tvalidation_0-mape:4.21403\tvalidation_1-mape:98.1575\n",
      "[80]\tvalidation_0-rmse:0.067376\tvalidation_1-rmse:0.417334\tvalidation_0-mape:4.20208\tvalidation_1-mape:98.3254\n",
      "[81]\tvalidation_0-rmse:0.067277\tvalidation_1-rmse:0.417362\tvalidation_0-mape:4.19665\tvalidation_1-mape:98.333\n",
      "[82]\tvalidation_0-rmse:0.0672\tvalidation_1-rmse:0.419926\tvalidation_0-mape:4.19278\tvalidation_1-mape:99.0379\n",
      "[83]\tvalidation_0-rmse:0.067024\tvalidation_1-rmse:0.418704\tvalidation_0-mape:4.18341\tvalidation_1-mape:98.7071\n",
      "[84]\tvalidation_0-rmse:0.066937\tvalidation_1-rmse:0.418539\tvalidation_0-mape:4.17426\tvalidation_1-mape:98.6189\n",
      "[85]\tvalidation_0-rmse:0.066699\tvalidation_1-rmse:0.418048\tvalidation_0-mape:4.16325\tvalidation_1-mape:98.499\n",
      "[86]\tvalidation_0-rmse:0.066671\tvalidation_1-rmse:0.420587\tvalidation_0-mape:4.16172\tvalidation_1-mape:99.1885\n",
      "[87]\tvalidation_0-rmse:0.0665\tvalidation_1-rmse:0.420345\tvalidation_0-mape:4.15024\tvalidation_1-mape:99.1125\n",
      "[88]\tvalidation_0-rmse:0.066215\tvalidation_1-rmse:0.420613\tvalidation_0-mape:4.13592\tvalidation_1-mape:99.16\n",
      "[89]\tvalidation_0-rmse:0.06616\tvalidation_1-rmse:0.421128\tvalidation_0-mape:4.12988\tvalidation_1-mape:99.347\n",
      "[90]\tvalidation_0-rmse:0.066092\tvalidation_1-rmse:0.421256\tvalidation_0-mape:4.12656\tvalidation_1-mape:99.3795\n",
      "[91]\tvalidation_0-rmse:0.065871\tvalidation_1-rmse:0.421239\tvalidation_0-mape:4.11812\tvalidation_1-mape:99.3734\n",
      "[92]\tvalidation_0-rmse:0.065558\tvalidation_1-rmse:0.420465\tvalidation_0-mape:4.09903\tvalidation_1-mape:99.1213\n",
      "[93]\tvalidation_0-rmse:0.065445\tvalidation_1-rmse:0.42044\tvalidation_0-mape:4.09166\tvalidation_1-mape:99.1149\n",
      "[94]\tvalidation_0-rmse:0.065317\tvalidation_1-rmse:0.420387\tvalidation_0-mape:4.08424\tvalidation_1-mape:99.0787\n",
      "[95]\tvalidation_0-rmse:0.065243\tvalidation_1-rmse:0.41995\tvalidation_0-mape:4.07701\tvalidation_1-mape:98.8949\n",
      "[96]\tvalidation_0-rmse:0.064984\tvalidation_1-rmse:0.419952\tvalidation_0-mape:4.06583\tvalidation_1-mape:98.8953\n",
      "[97]\tvalidation_0-rmse:0.06474\tvalidation_1-rmse:0.420353\tvalidation_0-mape:4.05489\tvalidation_1-mape:99.0191\n",
      "[98]\tvalidation_0-rmse:0.06453\tvalidation_1-rmse:0.42026\tvalidation_0-mape:4.04473\tvalidation_1-mape:98.9798\n",
      "[99]\tvalidation_0-rmse:0.064394\tvalidation_1-rmse:0.419989\tvalidation_0-mape:4.03281\tvalidation_1-mape:98.8562\n",
      "[100]\tvalidation_0-rmse:0.064358\tvalidation_1-rmse:0.420196\tvalidation_0-mape:4.03113\tvalidation_1-mape:98.9161\n",
      "[101]\tvalidation_0-rmse:0.064283\tvalidation_1-rmse:0.419964\tvalidation_0-mape:4.0241\tvalidation_1-mape:98.8011\n",
      "[102]\tvalidation_0-rmse:0.064131\tvalidation_1-rmse:0.418927\tvalidation_0-mape:4.01776\tvalidation_1-mape:98.5616\n",
      "[103]\tvalidation_0-rmse:0.063772\tvalidation_1-rmse:0.415649\tvalidation_0-mape:3.99862\tvalidation_1-mape:97.6393\n",
      "[104]\tvalidation_0-rmse:0.063742\tvalidation_1-rmse:0.415449\tvalidation_0-mape:3.99442\tvalidation_1-mape:97.5254\n",
      "[105]\tvalidation_0-rmse:0.063513\tvalidation_1-rmse:0.41563\tvalidation_0-mape:3.98318\tvalidation_1-mape:97.5639\n",
      "[106]\tvalidation_0-rmse:0.063483\tvalidation_1-rmse:0.415381\tvalidation_0-mape:3.9808\tvalidation_1-mape:97.5013\n",
      "[107]\tvalidation_0-rmse:0.063297\tvalidation_1-rmse:0.415379\tvalidation_0-mape:3.9727\tvalidation_1-mape:97.5008\n",
      "[108]\tvalidation_0-rmse:0.063068\tvalidation_1-rmse:0.416048\tvalidation_0-mape:3.95836\tvalidation_1-mape:97.6839\n",
      "[109]\tvalidation_0-rmse:0.063022\tvalidation_1-rmse:0.416009\tvalidation_0-mape:3.95266\tvalidation_1-mape:97.6367\n",
      "[110]\tvalidation_0-rmse:0.063002\tvalidation_1-rmse:0.41551\tvalidation_0-mape:3.9515\tvalidation_1-mape:97.4707\n",
      "[111]\tvalidation_0-rmse:0.062906\tvalidation_1-rmse:0.415529\tvalidation_0-mape:3.94589\tvalidation_1-mape:97.4754\n",
      "[112]\tvalidation_0-rmse:0.06288\tvalidation_1-rmse:0.415528\tvalidation_0-mape:3.94426\tvalidation_1-mape:97.4755\n",
      "[113]\tvalidation_0-rmse:0.062623\tvalidation_1-rmse:0.415185\tvalidation_0-mape:3.93255\tvalidation_1-mape:97.392\n",
      "[114]\tvalidation_0-rmse:0.062577\tvalidation_1-rmse:0.415154\tvalidation_0-mape:3.93024\tvalidation_1-mape:97.3797\n",
      "[115]\tvalidation_0-rmse:0.062227\tvalidation_1-rmse:0.415677\tvalidation_0-mape:3.91394\tvalidation_1-mape:97.5166\n",
      "[116]\tvalidation_0-rmse:0.06207\tvalidation_1-rmse:0.415637\tvalidation_0-mape:3.90546\tvalidation_1-mape:97.5008\n",
      "[117]\tvalidation_0-rmse:0.061886\tvalidation_1-rmse:0.41618\tvalidation_0-mape:3.89293\tvalidation_1-mape:97.6504\n",
      "[118]\tvalidation_0-rmse:0.061855\tvalidation_1-rmse:0.415769\tvalidation_0-mape:3.89112\tvalidation_1-mape:97.5459\n",
      "[119]\tvalidation_0-rmse:0.061801\tvalidation_1-rmse:0.416726\tvalidation_0-mape:3.88716\tvalidation_1-mape:97.7861\n",
      "[120]\tvalidation_0-rmse:0.061665\tvalidation_1-rmse:0.416645\tvalidation_0-mape:3.87849\tvalidation_1-mape:97.7091\n",
      "[121]\tvalidation_0-rmse:0.061626\tvalidation_1-rmse:0.416659\tvalidation_0-mape:3.87625\tvalidation_1-mape:97.7128\n",
      "[122]\tvalidation_0-rmse:0.061474\tvalidation_1-rmse:0.416658\tvalidation_0-mape:3.86857\tvalidation_1-mape:97.7126\n",
      "[123]\tvalidation_0-rmse:0.061387\tvalidation_1-rmse:0.416656\tvalidation_0-mape:3.86285\tvalidation_1-mape:97.7119\n",
      "[124]\tvalidation_0-rmse:0.061219\tvalidation_1-rmse:0.416274\tvalidation_0-mape:3.85422\tvalidation_1-mape:97.6113\n",
      "[125]\tvalidation_0-rmse:0.061138\tvalidation_1-rmse:0.415217\tvalidation_0-mape:3.85026\tvalidation_1-mape:97.3481\n",
      "[126]\tvalidation_0-rmse:0.060962\tvalidation_1-rmse:0.415206\tvalidation_0-mape:3.83896\tvalidation_1-mape:97.2765\n",
      "[127]\tvalidation_0-rmse:0.060823\tvalidation_1-rmse:0.414207\tvalidation_0-mape:3.82851\tvalidation_1-mape:96.9931\n",
      "[128]\tvalidation_0-rmse:0.060647\tvalidation_1-rmse:0.413761\tvalidation_0-mape:3.82105\tvalidation_1-mape:96.8804\n",
      "[129]\tvalidation_0-rmse:0.060629\tvalidation_1-rmse:0.415855\tvalidation_0-mape:3.82012\tvalidation_1-mape:97.4303\n",
      "[130]\tvalidation_0-rmse:0.060491\tvalidation_1-rmse:0.415415\tvalidation_0-mape:3.81139\tvalidation_1-mape:97.2933\n",
      "[131]\tvalidation_0-rmse:0.060297\tvalidation_1-rmse:0.415509\tvalidation_0-mape:3.80232\tvalidation_1-mape:97.3295\n",
      "[132]\tvalidation_0-rmse:0.06029\tvalidation_1-rmse:0.415528\tvalidation_0-mape:3.80189\tvalidation_1-mape:97.3415\n",
      "[133]\tvalidation_0-rmse:0.060101\tvalidation_1-rmse:0.415516\tvalidation_0-mape:3.79223\tvalidation_1-mape:97.344\n",
      "[134]\tvalidation_0-rmse:0.059994\tvalidation_1-rmse:0.414896\tvalidation_0-mape:3.78706\tvalidation_1-mape:97.1789\n",
      "[135]\tvalidation_0-rmse:0.059978\tvalidation_1-rmse:0.414897\tvalidation_0-mape:3.78614\tvalidation_1-mape:97.1797\n",
      "[136]\tvalidation_0-rmse:0.059874\tvalidation_1-rmse:0.415674\tvalidation_0-mape:3.7793\tvalidation_1-mape:97.3713\n",
      "[137]\tvalidation_0-rmse:0.059677\tvalidation_1-rmse:0.414738\tvalidation_0-mape:3.7676\tvalidation_1-mape:97.1066\n",
      "[138]\tvalidation_0-rmse:0.059579\tvalidation_1-rmse:0.408146\tvalidation_0-mape:3.76036\tvalidation_1-mape:95.1262\n",
      "[139]\tvalidation_0-rmse:0.059439\tvalidation_1-rmse:0.409133\tvalidation_0-mape:3.75232\tvalidation_1-mape:95.4213\n",
      "[140]\tvalidation_0-rmse:0.059392\tvalidation_1-rmse:0.409198\tvalidation_0-mape:3.74898\tvalidation_1-mape:95.4378\n",
      "[141]\tvalidation_0-rmse:0.059262\tvalidation_1-rmse:0.408896\tvalidation_0-mape:3.7418\tvalidation_1-mape:95.3595\n",
      "[142]\tvalidation_0-rmse:0.059204\tvalidation_1-rmse:0.408962\tvalidation_0-mape:3.73768\tvalidation_1-mape:95.3794\n",
      "[143]\tvalidation_0-rmse:0.059077\tvalidation_1-rmse:0.407873\tvalidation_0-mape:3.7292\tvalidation_1-mape:95.0266\n",
      "[144]\tvalidation_0-rmse:0.05906\tvalidation_1-rmse:0.407884\tvalidation_0-mape:3.72749\tvalidation_1-mape:95.0297\n",
      "[145]\tvalidation_0-rmse:0.059044\tvalidation_1-rmse:0.41513\tvalidation_0-mape:3.7264\tvalidation_1-mape:96.8781\n",
      "[146]\tvalidation_0-rmse:0.05888\tvalidation_1-rmse:0.413972\tvalidation_0-mape:3.71799\tvalidation_1-mape:96.5827\n",
      "[147]\tvalidation_0-rmse:0.058628\tvalidation_1-rmse:0.414221\tvalidation_0-mape:3.70388\tvalidation_1-mape:96.6281\n"
     ]
    },
    {
     "name": "stdout",
     "output_type": "stream",
     "text": [
      "[148]\tvalidation_0-rmse:0.0586\tvalidation_1-rmse:0.414222\tvalidation_0-mape:3.70051\tvalidation_1-mape:96.6099\n",
      "[149]\tvalidation_0-rmse:0.058423\tvalidation_1-rmse:0.414207\tvalidation_0-mape:3.69293\tvalidation_1-mape:96.6\n",
      "[150]\tvalidation_0-rmse:0.058319\tvalidation_1-rmse:0.413477\tvalidation_0-mape:3.68661\tvalidation_1-mape:96.3893\n",
      "[151]\tvalidation_0-rmse:0.058305\tvalidation_1-rmse:0.413527\tvalidation_0-mape:3.68419\tvalidation_1-mape:96.3887\n",
      "[152]\tvalidation_0-rmse:0.058138\tvalidation_1-rmse:0.420311\tvalidation_0-mape:3.67291\tvalidation_1-mape:98.1151\n",
      "[153]\tvalidation_0-rmse:0.058064\tvalidation_1-rmse:0.420227\tvalidation_0-mape:3.66797\tvalidation_1-mape:98.0791\n",
      "[154]\tvalidation_0-rmse:0.058011\tvalidation_1-rmse:0.426725\tvalidation_0-mape:3.66412\tvalidation_1-mape:99.7305\n",
      "[155]\tvalidation_0-rmse:0.05796\tvalidation_1-rmse:0.426745\tvalidation_0-mape:3.66029\tvalidation_1-mape:99.731\n",
      "[156]\tvalidation_0-rmse:0.057905\tvalidation_1-rmse:0.426905\tvalidation_0-mape:3.65688\tvalidation_1-mape:99.7632\n",
      "[157]\tvalidation_0-rmse:0.05788\tvalidation_1-rmse:0.426889\tvalidation_0-mape:3.65498\tvalidation_1-mape:99.7588\n",
      "[158]\tvalidation_0-rmse:0.057869\tvalidation_1-rmse:0.433079\tvalidation_0-mape:3.65429\tvalidation_1-mape:101.327\n",
      "[159]\tvalidation_0-rmse:0.057708\tvalidation_1-rmse:0.433195\tvalidation_0-mape:3.64654\tvalidation_1-mape:101.358\n",
      "[160]\tvalidation_0-rmse:0.057695\tvalidation_1-rmse:0.433183\tvalidation_0-mape:3.64535\tvalidation_1-mape:101.353\n",
      "[161]\tvalidation_0-rmse:0.057598\tvalidation_1-rmse:0.436693\tvalidation_0-mape:3.63803\tvalidation_1-mape:102.184\n",
      "[162]\tvalidation_0-rmse:0.057503\tvalidation_1-rmse:0.436753\tvalidation_0-mape:3.63038\tvalidation_1-mape:102.194\n",
      "[163]\tvalidation_0-rmse:0.057432\tvalidation_1-rmse:0.436752\tvalidation_0-mape:3.62583\tvalidation_1-mape:102.194\n",
      "[164]\tvalidation_0-rmse:0.057145\tvalidation_1-rmse:0.435809\tvalidation_0-mape:3.6092\tvalidation_1-mape:101.963\n",
      "[165]\tvalidation_0-rmse:0.05707\tvalidation_1-rmse:0.438055\tvalidation_0-mape:3.60522\tvalidation_1-mape:102.565\n",
      "[166]\tvalidation_0-rmse:0.056911\tvalidation_1-rmse:0.438096\tvalidation_0-mape:3.59573\tvalidation_1-mape:102.577\n",
      "[167]\tvalidation_0-rmse:0.056851\tvalidation_1-rmse:0.438094\tvalidation_0-mape:3.59177\tvalidation_1-mape:102.577\n",
      "[168]\tvalidation_0-rmse:0.056844\tvalidation_1-rmse:0.444148\tvalidation_0-mape:3.59106\tvalidation_1-mape:104.108\n",
      "[169]\tvalidation_0-rmse:0.056749\tvalidation_1-rmse:0.442286\tvalidation_0-mape:3.58595\tvalidation_1-mape:103.681\n",
      "[170]\tvalidation_0-rmse:0.056672\tvalidation_1-rmse:0.442602\tvalidation_0-mape:3.58153\tvalidation_1-mape:103.783\n",
      "[171]\tvalidation_0-rmse:0.056592\tvalidation_1-rmse:0.44258\tvalidation_0-mape:3.57572\tvalidation_1-mape:103.76\n",
      "[172]\tvalidation_0-rmse:0.056509\tvalidation_1-rmse:0.442597\tvalidation_0-mape:3.56964\tvalidation_1-mape:103.76\n",
      "[173]\tvalidation_0-rmse:0.056439\tvalidation_1-rmse:0.442678\tvalidation_0-mape:3.56607\tvalidation_1-mape:103.781\n",
      "[174]\tvalidation_0-rmse:0.056391\tvalidation_1-rmse:0.442252\tvalidation_0-mape:3.56271\tvalidation_1-mape:103.679\n",
      "[175]\tvalidation_0-rmse:0.056359\tvalidation_1-rmse:0.442136\tvalidation_0-mape:3.55988\tvalidation_1-mape:103.65\n",
      "[176]\tvalidation_0-rmse:0.05634\tvalidation_1-rmse:0.445694\tvalidation_0-mape:3.55821\tvalidation_1-mape:104.406\n",
      "[177]\tvalidation_0-rmse:0.056271\tvalidation_1-rmse:0.445732\tvalidation_0-mape:3.55313\tvalidation_1-mape:104.412\n",
      "[178]\tvalidation_0-rmse:0.056226\tvalidation_1-rmse:0.445468\tvalidation_0-mape:3.55009\tvalidation_1-mape:104.327\n",
      "[179]\tvalidation_0-rmse:0.056173\tvalidation_1-rmse:0.445113\tvalidation_0-mape:3.54564\tvalidation_1-mape:104.196\n",
      "[180]\tvalidation_0-rmse:0.056137\tvalidation_1-rmse:0.447104\tvalidation_0-mape:3.54318\tvalidation_1-mape:104.78\n",
      "[181]\tvalidation_0-rmse:0.056124\tvalidation_1-rmse:0.447139\tvalidation_0-mape:3.54133\tvalidation_1-mape:104.783\n",
      "[182]\tvalidation_0-rmse:0.056117\tvalidation_1-rmse:0.447125\tvalidation_0-mape:3.54051\tvalidation_1-mape:104.781\n",
      "[183]\tvalidation_0-rmse:0.056033\tvalidation_1-rmse:0.447087\tvalidation_0-mape:3.5367\tvalidation_1-mape:104.773\n",
      "[184]\tvalidation_0-rmse:0.05587\tvalidation_1-rmse:0.44669\tvalidation_0-mape:3.52772\tvalidation_1-mape:104.662\n",
      "[185]\tvalidation_0-rmse:0.055784\tvalidation_1-rmse:0.443868\tvalidation_0-mape:3.52076\tvalidation_1-mape:103.96\n",
      "[186]\tvalidation_0-rmse:0.05559\tvalidation_1-rmse:0.443915\tvalidation_0-mape:3.50805\tvalidation_1-mape:103.978\n",
      "[187]\tvalidation_0-rmse:0.055521\tvalidation_1-rmse:0.441954\tvalidation_0-mape:3.50282\tvalidation_1-mape:103.17\n",
      "[188]\tvalidation_0-rmse:0.055421\tvalidation_1-rmse:0.442676\tvalidation_0-mape:3.49605\tvalidation_1-mape:103.344\n",
      "[189]\tvalidation_0-rmse:0.055303\tvalidation_1-rmse:0.442633\tvalidation_0-mape:3.48809\tvalidation_1-mape:103.327\n",
      "[190]\tvalidation_0-rmse:0.055184\tvalidation_1-rmse:0.442488\tvalidation_0-mape:3.47922\tvalidation_1-mape:103.282\n",
      "[191]\tvalidation_0-rmse:0.055161\tvalidation_1-rmse:0.443711\tvalidation_0-mape:3.47725\tvalidation_1-mape:103.313\n",
      "[192]\tvalidation_0-rmse:0.055112\tvalidation_1-rmse:0.446271\tvalidation_0-mape:3.47312\tvalidation_1-mape:103.815\n",
      "[193]\tvalidation_0-rmse:0.055084\tvalidation_1-rmse:0.446265\tvalidation_0-mape:3.47123\tvalidation_1-mape:103.813\n",
      "[194]\tvalidation_0-rmse:0.054993\tvalidation_1-rmse:0.44624\tvalidation_0-mape:3.46691\tvalidation_1-mape:103.776\n",
      "[195]\tvalidation_0-rmse:0.054906\tvalidation_1-rmse:0.446944\tvalidation_0-mape:3.4602\tvalidation_1-mape:103.918\n",
      "[196]\tvalidation_0-rmse:0.054894\tvalidation_1-rmse:0.446943\tvalidation_0-mape:3.45909\tvalidation_1-mape:103.917\n",
      "[197]\tvalidation_0-rmse:0.05487\tvalidation_1-rmse:0.446937\tvalidation_0-mape:3.45784\tvalidation_1-mape:103.917\n",
      "[198]\tvalidation_0-rmse:0.054856\tvalidation_1-rmse:0.446989\tvalidation_0-mape:3.45666\tvalidation_1-mape:103.93\n",
      "[199]\tvalidation_0-rmse:0.054799\tvalidation_1-rmse:0.446754\tvalidation_0-mape:3.4536\tvalidation_1-mape:103.87\n",
      "[200]\tvalidation_0-rmse:0.054765\tvalidation_1-rmse:0.447382\tvalidation_0-mape:3.45103\tvalidation_1-mape:104.013\n",
      "[201]\tvalidation_0-rmse:0.054696\tvalidation_1-rmse:0.4477\tvalidation_0-mape:3.44431\tvalidation_1-mape:104.032\n",
      "[202]\tvalidation_0-rmse:0.054663\tvalidation_1-rmse:0.449063\tvalidation_0-mape:3.44264\tvalidation_1-mape:104.401\n",
      "[203]\tvalidation_0-rmse:0.054538\tvalidation_1-rmse:0.449052\tvalidation_0-mape:3.43533\tvalidation_1-mape:104.398\n",
      "[204]\tvalidation_0-rmse:0.054444\tvalidation_1-rmse:0.44886\tvalidation_0-mape:3.42803\tvalidation_1-mape:104.337\n",
      "[205]\tvalidation_0-rmse:0.05442\tvalidation_1-rmse:0.450969\tvalidation_0-mape:3.42589\tvalidation_1-mape:104.537\n",
      "[206]\tvalidation_0-rmse:0.054412\tvalidation_1-rmse:0.452266\tvalidation_0-mape:3.42529\tvalidation_1-mape:104.89\n",
      "[207]\tvalidation_0-rmse:0.054314\tvalidation_1-rmse:0.452276\tvalidation_0-mape:3.4208\tvalidation_1-mape:104.902\n",
      "[208]\tvalidation_0-rmse:0.054221\tvalidation_1-rmse:0.452253\tvalidation_0-mape:3.41457\tvalidation_1-mape:104.897\n",
      "[209]\tvalidation_0-rmse:0.054193\tvalidation_1-rmse:0.452265\tvalidation_0-mape:3.41319\tvalidation_1-mape:104.901\n",
      "[210]\tvalidation_0-rmse:0.054139\tvalidation_1-rmse:0.452283\tvalidation_0-mape:3.41011\tvalidation_1-mape:104.905\n",
      "[211]\tvalidation_0-rmse:0.054104\tvalidation_1-rmse:0.448836\tvalidation_0-mape:3.40741\tvalidation_1-mape:103.758\n",
      "[212]\tvalidation_0-rmse:0.054078\tvalidation_1-rmse:0.449048\tvalidation_0-mape:3.40571\tvalidation_1-mape:103.811\n",
      "[213]\tvalidation_0-rmse:0.054053\tvalidation_1-rmse:0.449058\tvalidation_0-mape:3.40423\tvalidation_1-mape:103.817\n",
      "[214]\tvalidation_0-rmse:0.053992\tvalidation_1-rmse:0.446796\tvalidation_0-mape:3.39833\tvalidation_1-mape:102.946\n",
      "[215]\tvalidation_0-rmse:0.053978\tvalidation_1-rmse:0.446795\tvalidation_0-mape:3.39746\tvalidation_1-mape:102.946\n",
      "[216]\tvalidation_0-rmse:0.053847\tvalidation_1-rmse:0.446722\tvalidation_0-mape:3.38994\tvalidation_1-mape:102.925\n",
      "[217]\tvalidation_0-rmse:0.053681\tvalidation_1-rmse:0.44615\tvalidation_0-mape:3.37758\tvalidation_1-mape:102.787\n",
      "[218]\tvalidation_0-rmse:0.053663\tvalidation_1-rmse:0.446124\tvalidation_0-mape:3.37597\tvalidation_1-mape:102.777\n",
      "[219]\tvalidation_0-rmse:0.053636\tvalidation_1-rmse:0.445966\tvalidation_0-mape:3.3743\tvalidation_1-mape:102.736\n",
      "[220]\tvalidation_0-rmse:0.053512\tvalidation_1-rmse:0.445877\tvalidation_0-mape:3.36534\tvalidation_1-mape:102.712\n",
      "[221]\tvalidation_0-rmse:0.053498\tvalidation_1-rmse:0.445591\tvalidation_0-mape:3.36402\tvalidation_1-mape:102.568\n"
     ]
    },
    {
     "name": "stdout",
     "output_type": "stream",
     "text": [
      "[222]\tvalidation_0-rmse:0.053476\tvalidation_1-rmse:0.449982\tvalidation_0-mape:3.3633\tvalidation_1-mape:103.68\n",
      "[223]\tvalidation_0-rmse:0.053447\tvalidation_1-rmse:0.449755\tvalidation_0-mape:3.36166\tvalidation_1-mape:103.62\n",
      "[224]\tvalidation_0-rmse:0.053412\tvalidation_1-rmse:0.453926\tvalidation_0-mape:3.35885\tvalidation_1-mape:104.676\n",
      "[225]\tvalidation_0-rmse:0.053377\tvalidation_1-rmse:0.453885\tvalidation_0-mape:3.35498\tvalidation_1-mape:104.652\n",
      "[226]\tvalidation_0-rmse:0.053264\tvalidation_1-rmse:0.45403\tvalidation_0-mape:3.34987\tvalidation_1-mape:104.676\n",
      "[227]\tvalidation_0-rmse:0.053249\tvalidation_1-rmse:0.454023\tvalidation_0-mape:3.34899\tvalidation_1-mape:104.674\n",
      "[228]\tvalidation_0-rmse:0.05323\tvalidation_1-rmse:0.454021\tvalidation_0-mape:3.34768\tvalidation_1-mape:104.673\n",
      "[229]\tvalidation_0-rmse:0.053223\tvalidation_1-rmse:0.457982\tvalidation_0-mape:3.34707\tvalidation_1-mape:105.674\n",
      "[230]\tvalidation_0-rmse:0.0532\tvalidation_1-rmse:0.457892\tvalidation_0-mape:3.34519\tvalidation_1-mape:105.649\n",
      "[231]\tvalidation_0-rmse:0.053129\tvalidation_1-rmse:0.458172\tvalidation_0-mape:3.34075\tvalidation_1-mape:105.709\n",
      "[232]\tvalidation_0-rmse:0.053063\tvalidation_1-rmse:0.458209\tvalidation_0-mape:3.33704\tvalidation_1-mape:105.721\n",
      "[233]\tvalidation_0-rmse:0.052944\tvalidation_1-rmse:0.45836\tvalidation_0-mape:3.32966\tvalidation_1-mape:105.756\n",
      "[234]\tvalidation_0-rmse:0.052917\tvalidation_1-rmse:0.458293\tvalidation_0-mape:3.32797\tvalidation_1-mape:105.738\n",
      "[235]\tvalidation_0-rmse:0.052881\tvalidation_1-rmse:0.458584\tvalidation_0-mape:3.32479\tvalidation_1-mape:105.803\n",
      "[236]\tvalidation_0-rmse:0.052808\tvalidation_1-rmse:0.460228\tvalidation_0-mape:3.32065\tvalidation_1-mape:106.119\n",
      "[237]\tvalidation_0-rmse:0.052746\tvalidation_1-rmse:0.46089\tvalidation_0-mape:3.31764\tvalidation_1-mape:106.253\n",
      "[238]\tvalidation_0-rmse:0.052645\tvalidation_1-rmse:0.454991\tvalidation_0-mape:3.3103\tvalidation_1-mape:104.574\n",
      "[239]\tvalidation_0-rmse:0.052593\tvalidation_1-rmse:0.454914\tvalidation_0-mape:3.30668\tvalidation_1-mape:104.554\n",
      "[240]\tvalidation_0-rmse:0.052503\tvalidation_1-rmse:0.449828\tvalidation_0-mape:3.30105\tvalidation_1-mape:103.052\n",
      "[241]\tvalidation_0-rmse:0.052499\tvalidation_1-rmse:0.450557\tvalidation_0-mape:3.30073\tvalidation_1-mape:103.27\n",
      "[242]\tvalidation_0-rmse:0.052479\tvalidation_1-rmse:0.451254\tvalidation_0-mape:3.30012\tvalidation_1-mape:103.476\n",
      "[243]\tvalidation_0-rmse:0.052475\tvalidation_1-rmse:0.451255\tvalidation_0-mape:3.29975\tvalidation_1-mape:103.477\n",
      "[244]\tvalidation_0-rmse:0.052471\tvalidation_1-rmse:0.451878\tvalidation_0-mape:3.29924\tvalidation_1-mape:103.651\n",
      "[245]\tvalidation_0-rmse:0.052443\tvalidation_1-rmse:0.451879\tvalidation_0-mape:3.2979\tvalidation_1-mape:103.65\n",
      "[246]\tvalidation_0-rmse:0.052395\tvalidation_1-rmse:0.45182\tvalidation_0-mape:3.29547\tvalidation_1-mape:103.624\n",
      "[247]\tvalidation_0-rmse:0.052362\tvalidation_1-rmse:0.451719\tvalidation_0-mape:3.29258\tvalidation_1-mape:103.577\n",
      "[248]\tvalidation_0-rmse:0.05229\tvalidation_1-rmse:0.451929\tvalidation_0-mape:3.28676\tvalidation_1-mape:103.639\n",
      "[249]\tvalidation_0-rmse:0.052264\tvalidation_1-rmse:0.451007\tvalidation_0-mape:3.28456\tvalidation_1-mape:103.359\n",
      "[250]\tvalidation_0-rmse:0.052234\tvalidation_1-rmse:0.450976\tvalidation_0-mape:3.28328\tvalidation_1-mape:103.343\n",
      "[251]\tvalidation_0-rmse:0.052207\tvalidation_1-rmse:0.450883\tvalidation_0-mape:3.28128\tvalidation_1-mape:103.317\n",
      "[252]\tvalidation_0-rmse:0.052204\tvalidation_1-rmse:0.451503\tvalidation_0-mape:3.28101\tvalidation_1-mape:103.488\n",
      "[253]\tvalidation_0-rmse:0.052194\tvalidation_1-rmse:0.451502\tvalidation_0-mape:3.28008\tvalidation_1-mape:103.488\n",
      "[254]\tvalidation_0-rmse:0.052125\tvalidation_1-rmse:0.451402\tvalidation_0-mape:3.27487\tvalidation_1-mape:103.46\n",
      "[255]\tvalidation_0-rmse:0.052096\tvalidation_1-rmse:0.451351\tvalidation_0-mape:3.27398\tvalidation_1-mape:103.444\n",
      "[256]\tvalidation_0-rmse:0.052058\tvalidation_1-rmse:0.4499\tvalidation_0-mape:3.271\tvalidation_1-mape:103.055\n",
      "[257]\tvalidation_0-rmse:0.051974\tvalidation_1-rmse:0.449864\tvalidation_0-mape:3.2639\tvalidation_1-mape:103.018\n",
      "[258]\tvalidation_0-rmse:0.051944\tvalidation_1-rmse:0.449846\tvalidation_0-mape:3.26253\tvalidation_1-mape:103.005\n",
      "[259]\tvalidation_0-rmse:0.051916\tvalidation_1-rmse:0.448802\tvalidation_0-mape:3.25944\tvalidation_1-mape:102.66\n",
      "[260]\tvalidation_0-rmse:0.051891\tvalidation_1-rmse:0.448874\tvalidation_0-mape:3.25613\tvalidation_1-mape:102.673\n",
      "[261]\tvalidation_0-rmse:0.051879\tvalidation_1-rmse:0.448171\tvalidation_0-mape:3.25468\tvalidation_1-mape:102.411\n",
      "[262]\tvalidation_0-rmse:0.051797\tvalidation_1-rmse:0.448236\tvalidation_0-mape:3.24852\tvalidation_1-mape:102.428\n",
      "[263]\tvalidation_0-rmse:0.051702\tvalidation_1-rmse:0.448682\tvalidation_0-mape:3.24098\tvalidation_1-mape:102.432\n",
      "[264]\tvalidation_0-rmse:0.051686\tvalidation_1-rmse:0.448593\tvalidation_0-mape:3.23955\tvalidation_1-mape:102.409\n",
      "[265]\tvalidation_0-rmse:0.051616\tvalidation_1-rmse:0.448466\tvalidation_0-mape:3.23529\tvalidation_1-mape:102.38\n",
      "[266]\tvalidation_0-rmse:0.051559\tvalidation_1-rmse:0.448464\tvalidation_0-mape:3.23304\tvalidation_1-mape:102.394\n",
      "[267]\tvalidation_0-rmse:0.051479\tvalidation_1-rmse:0.447505\tvalidation_0-mape:3.22939\tvalidation_1-mape:102.122\n",
      "[268]\tvalidation_0-rmse:0.051415\tvalidation_1-rmse:0.447187\tvalidation_0-mape:3.22556\tvalidation_1-mape:102.001\n",
      "[269]\tvalidation_0-rmse:0.051314\tvalidation_1-rmse:0.447008\tvalidation_0-mape:3.21831\tvalidation_1-mape:101.948\n",
      "[270]\tvalidation_0-rmse:0.051274\tvalidation_1-rmse:0.446927\tvalidation_0-mape:3.21608\tvalidation_1-mape:101.924\n",
      "[271]\tvalidation_0-rmse:0.051246\tvalidation_1-rmse:0.446517\tvalidation_0-mape:3.21465\tvalidation_1-mape:101.841\n",
      "[272]\tvalidation_0-rmse:0.051216\tvalidation_1-rmse:0.446516\tvalidation_0-mape:3.21299\tvalidation_1-mape:101.844\n",
      "[273]\tvalidation_0-rmse:0.051185\tvalidation_1-rmse:0.446214\tvalidation_0-mape:3.2092\tvalidation_1-mape:101.745\n",
      "[274]\tvalidation_0-rmse:0.051144\tvalidation_1-rmse:0.446247\tvalidation_0-mape:3.207\tvalidation_1-mape:101.753\n",
      "[275]\tvalidation_0-rmse:0.051088\tvalidation_1-rmse:0.446527\tvalidation_0-mape:3.20303\tvalidation_1-mape:101.779\n",
      "[276]\tvalidation_0-rmse:0.051065\tvalidation_1-rmse:0.446546\tvalidation_0-mape:3.20173\tvalidation_1-mape:101.783\n",
      "[277]\tvalidation_0-rmse:0.05104\tvalidation_1-rmse:0.446623\tvalidation_0-mape:3.19864\tvalidation_1-mape:101.811\n",
      "[278]\tvalidation_0-rmse:0.050959\tvalidation_1-rmse:0.446607\tvalidation_0-mape:3.19357\tvalidation_1-mape:101.806\n",
      "[279]\tvalidation_0-rmse:0.050949\tvalidation_1-rmse:0.446607\tvalidation_0-mape:3.19286\tvalidation_1-mape:101.806\n",
      "[280]\tvalidation_0-rmse:0.050866\tvalidation_1-rmse:0.446667\tvalidation_0-mape:3.18701\tvalidation_1-mape:101.812\n",
      "[281]\tvalidation_0-rmse:0.050847\tvalidation_1-rmse:0.446586\tvalidation_0-mape:3.18626\tvalidation_1-mape:101.789\n",
      "[282]\tvalidation_0-rmse:0.050823\tvalidation_1-rmse:0.446618\tvalidation_0-mape:3.18434\tvalidation_1-mape:101.795\n",
      "[283]\tvalidation_0-rmse:0.050797\tvalidation_1-rmse:0.446415\tvalidation_0-mape:3.18141\tvalidation_1-mape:101.744\n",
      "[284]\tvalidation_0-rmse:0.050782\tvalidation_1-rmse:0.446412\tvalidation_0-mape:3.1806\tvalidation_1-mape:101.741\n",
      "[285]\tvalidation_0-rmse:0.050738\tvalidation_1-rmse:0.446144\tvalidation_0-mape:3.17734\tvalidation_1-mape:101.691\n",
      "[286]\tvalidation_0-rmse:0.050713\tvalidation_1-rmse:0.446171\tvalidation_0-mape:3.17568\tvalidation_1-mape:101.701\n",
      "[287]\tvalidation_0-rmse:0.050689\tvalidation_1-rmse:0.445999\tvalidation_0-mape:3.17444\tvalidation_1-mape:101.658\n",
      "[288]\tvalidation_0-rmse:0.05067\tvalidation_1-rmse:0.445885\tvalidation_0-mape:3.17222\tvalidation_1-mape:101.633\n",
      "[289]\tvalidation_0-rmse:0.050586\tvalidation_1-rmse:0.445492\tvalidation_0-mape:3.16565\tvalidation_1-mape:101.533\n",
      "[290]\tvalidation_0-rmse:0.050574\tvalidation_1-rmse:0.44549\tvalidation_0-mape:3.16449\tvalidation_1-mape:101.533\n",
      "[291]\tvalidation_0-rmse:0.05048\tvalidation_1-rmse:0.444936\tvalidation_0-mape:3.1574\tvalidation_1-mape:101.358\n",
      "[292]\tvalidation_0-rmse:0.050471\tvalidation_1-rmse:0.444953\tvalidation_0-mape:3.15661\tvalidation_1-mape:101.361\n",
      "[293]\tvalidation_0-rmse:0.050416\tvalidation_1-rmse:0.444902\tvalidation_0-mape:3.15354\tvalidation_1-mape:101.349\n",
      "[294]\tvalidation_0-rmse:0.050391\tvalidation_1-rmse:0.445335\tvalidation_0-mape:3.15215\tvalidation_1-mape:101.475\n",
      "[295]\tvalidation_0-rmse:0.050372\tvalidation_1-rmse:0.446018\tvalidation_0-mape:3.15019\tvalidation_1-mape:101.672\n"
     ]
    },
    {
     "name": "stdout",
     "output_type": "stream",
     "text": [
      "[296]\tvalidation_0-rmse:0.050294\tvalidation_1-rmse:0.445961\tvalidation_0-mape:3.14384\tvalidation_1-mape:101.657\n",
      "[297]\tvalidation_0-rmse:0.05026\tvalidation_1-rmse:0.445966\tvalidation_0-mape:3.14245\tvalidation_1-mape:101.659\n",
      "[298]\tvalidation_0-rmse:0.050225\tvalidation_1-rmse:0.446071\tvalidation_0-mape:3.14089\tvalidation_1-mape:101.684\n",
      "[299]\tvalidation_0-rmse:0.050173\tvalidation_1-rmse:0.446086\tvalidation_0-mape:3.13766\tvalidation_1-mape:101.688\n"
     ]
    },
    {
     "data": {
      "text/plain": [
       "XGBRegressor(base_score=0.5, booster='gbtree', colsample_bylevel=1,\n",
       "             colsample_bynode=1, colsample_bytree=1, gamma=0,\n",
       "             importance_type='gain', learning_rate=0.1, max_delta_step=0,\n",
       "             max_depth=7, min_child_weight=1, missing=None, n_estimators=300,\n",
       "             n_jobs=1, nthread=None, objective='reg:linear', random_state=0,\n",
       "             reg_alpha=0, reg_lambda=1, scale_pos_weight=1, seed=None,\n",
       "             silent=None, subsample=1, verbosity=1)"
      ]
     },
     "execution_count": 181,
     "metadata": {},
     "output_type": "execute_result"
    }
   ],
   "source": [
    "import xgboost\n",
    "model = xgboost.XGBRegressor(n_estimators=300, max_depth=7)\n",
    "\n",
    "model.fit(traX.values, traN.values, eval_set=[(traX.values, traN.values), \n",
    "                                              (vaX.values, vaN.values)], eval_metric=xgbmape)"
   ]
  },
  {
   "cell_type": "code",
   "execution_count": 183,
   "metadata": {},
   "outputs": [],
   "source": [
    "traP = model.predict(traX.values) * traY\n",
    "vaP = model.predict(vaX.values) * vaY"
   ]
  },
  {
   "cell_type": "code",
   "execution_count": 184,
   "metadata": {},
   "outputs": [],
   "source": [
    "from utils.pipeline import mape"
   ]
  },
  {
   "cell_type": "code",
   "execution_count": 186,
   "metadata": {},
   "outputs": [
    {
     "name": "stdout",
     "output_type": "stream",
     "text": [
      "3.1376592447141536\n",
      "101.6879178304895\n"
     ]
    }
   ],
   "source": [
    "print(mape(data[0][1], traP))\n",
    "print(mape(data[1][1], vaP))"
   ]
  }
 ],
 "metadata": {
  "kernelspec": {
   "display_name": "Python 3",
   "language": "python",
   "name": "python3"
  },
  "language_info": {
   "codemirror_mode": {
    "name": "ipython",
    "version": 3
   },
   "file_extension": ".py",
   "mimetype": "text/x-python",
   "name": "python",
   "nbconvert_exporter": "python",
   "pygments_lexer": "ipython3",
   "version": "3.7.3"
  }
 },
 "nbformat": 4,
 "nbformat_minor": 2
}
