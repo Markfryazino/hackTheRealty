{
 "cells": [
  {
   "cell_type": "code",
   "execution_count": 1,
   "metadata": {},
   "outputs": [],
   "source": [
    "import numpy as np\n",
    "import pandas as pd\n",
    "import matplotlib.pyplot as plt\n",
    "import seaborn as sns\n",
    "\n",
    "from utils import preproc"
   ]
  },
  {
   "cell_type": "code",
   "execution_count": 2,
   "metadata": {},
   "outputs": [],
   "source": [
    "train = pd.read_csv('price_train.tsv', sep='\\t')\n",
    "house = pd.read_csv('price_housebase.tsv', sep='\\t')"
   ]
  },
  {
   "cell_type": "code",
   "execution_count": 3,
   "metadata": {},
   "outputs": [
    {
     "data": {
      "text/html": [
       "<div>\n",
       "<style scoped>\n",
       "    .dataframe tbody tr th:only-of-type {\n",
       "        vertical-align: middle;\n",
       "    }\n",
       "\n",
       "    .dataframe tbody tr th {\n",
       "        vertical-align: top;\n",
       "    }\n",
       "\n",
       "    .dataframe thead th {\n",
       "        text-align: right;\n",
       "    }\n",
       "</style>\n",
       "<table border=\"1\" class=\"dataframe\">\n",
       "  <thead>\n",
       "    <tr style=\"text-align: right;\">\n",
       "      <th></th>\n",
       "      <th>apartment_ratio</th>\n",
       "      <th>offers_in_sites_ratio</th>\n",
       "      <th>unique_active_buildings_count</th>\n",
       "      <th>avg_price_sqm</th>\n",
       "      <th>month</th>\n",
       "      <th>unique_active_building_series_count</th>\n",
       "      <th>rooms_offered_3_ratio</th>\n",
       "      <th>city_quadkey</th>\n",
       "      <th>median_price_sqm</th>\n",
       "      <th>rooms_offered_4_more_ratio</th>\n",
       "      <th>rooms_offered_1_ratio</th>\n",
       "      <th>total_area_avg</th>\n",
       "      <th>studio_ratio</th>\n",
       "      <th>offer_count</th>\n",
       "      <th>rooms_offered_2_ratio</th>\n",
       "    </tr>\n",
       "  </thead>\n",
       "  <tbody>\n",
       "    <tr>\n",
       "      <th>0</th>\n",
       "      <td>0.0</td>\n",
       "      <td>0.0</td>\n",
       "      <td>1</td>\n",
       "      <td>22727.273438</td>\n",
       "      <td>2018-02-01</td>\n",
       "      <td>1</td>\n",
       "      <td>0.0</td>\n",
       "      <td>120132230303223</td>\n",
       "      <td>22727.273438</td>\n",
       "      <td>0.0</td>\n",
       "      <td>0.0</td>\n",
       "      <td>44.0</td>\n",
       "      <td>0.0</td>\n",
       "      <td>1</td>\n",
       "      <td>1.0</td>\n",
       "    </tr>\n",
       "  </tbody>\n",
       "</table>\n",
       "</div>"
      ],
      "text/plain": [
       "   apartment_ratio  offers_in_sites_ratio  unique_active_buildings_count  \\\n",
       "0              0.0                    0.0                              1   \n",
       "\n",
       "   avg_price_sqm      month  unique_active_building_series_count  \\\n",
       "0   22727.273438 2018-02-01                                    1   \n",
       "\n",
       "   rooms_offered_3_ratio     city_quadkey  median_price_sqm  \\\n",
       "0                    0.0  120132230303223      22727.273438   \n",
       "\n",
       "   rooms_offered_4_more_ratio  rooms_offered_1_ratio  total_area_avg  \\\n",
       "0                         0.0                    0.0            44.0   \n",
       "\n",
       "   studio_ratio  offer_count  rooms_offered_2_ratio  \n",
       "0           0.0            1                    1.0  "
      ]
     },
     "execution_count": 3,
     "metadata": {},
     "output_type": "execute_result"
    }
   ],
   "source": [
    "train['month'] = pd.to_datetime(train.month)\n",
    "train.head(1)"
   ]
  },
  {
   "cell_type": "code",
   "execution_count": 4,
   "metadata": {
    "scrolled": true
   },
   "outputs": [],
   "source": [
    "house['latlon'] = list(zip(house.latitude.values, house.longitude.values))"
   ]
  },
  {
   "cell_type": "code",
   "execution_count": 5,
   "metadata": {},
   "outputs": [
    {
     "data": {
      "text/html": [
       "<div>\n",
       "<style scoped>\n",
       "    .dataframe tbody tr th:only-of-type {\n",
       "        vertical-align: middle;\n",
       "    }\n",
       "\n",
       "    .dataframe tbody tr th {\n",
       "        vertical-align: top;\n",
       "    }\n",
       "\n",
       "    .dataframe thead th {\n",
       "        text-align: right;\n",
       "    }\n",
       "</style>\n",
       "<table border=\"1\" class=\"dataframe\">\n",
       "  <thead>\n",
       "    <tr style=\"text-align: right;\">\n",
       "      <th></th>\n",
       "      <th>beauty_cnt</th>\n",
       "      <th>building_id</th>\n",
       "      <th>building_series_id</th>\n",
       "      <th>shopping_cnt</th>\n",
       "      <th>flats_count</th>\n",
       "      <th>latitude</th>\n",
       "      <th>building_type</th>\n",
       "      <th>cafe_restaurant_eating_out_cnt</th>\n",
       "      <th>unified_address</th>\n",
       "      <th>entertainment_cnt</th>\n",
       "      <th>...</th>\n",
       "      <th>site_id</th>\n",
       "      <th>healthcare_cnt</th>\n",
       "      <th>expect_demolition</th>\n",
       "      <th>longitude</th>\n",
       "      <th>ceiling_height</th>\n",
       "      <th>has_elevator</th>\n",
       "      <th>laundry_and_repair_services_cnt</th>\n",
       "      <th>build_year</th>\n",
       "      <th>city_quadkey</th>\n",
       "      <th>latlon</th>\n",
       "    </tr>\n",
       "  </thead>\n",
       "  <tbody>\n",
       "    <tr>\n",
       "      <th>0</th>\n",
       "      <td>36.0</td>\n",
       "      <td>3031030817531317628</td>\n",
       "      <td>0</td>\n",
       "      <td>45.0</td>\n",
       "      <td>0</td>\n",
       "      <td>55.705219</td>\n",
       "      <td>BRICK</td>\n",
       "      <td>24.0</td>\n",
       "      <td>Россия, Москва, 1-й Автозаводский проезд, 3</td>\n",
       "      <td>18.0</td>\n",
       "      <td>...</td>\n",
       "      <td>0</td>\n",
       "      <td>16.0</td>\n",
       "      <td>False</td>\n",
       "      <td>37.656994</td>\n",
       "      <td>0.0</td>\n",
       "      <td>True</td>\n",
       "      <td>38.0</td>\n",
       "      <td>1937</td>\n",
       "      <td>120310101302011</td>\n",
       "      <td>(55.70521926879883, 37.6569938659668)</td>\n",
       "    </tr>\n",
       "  </tbody>\n",
       "</table>\n",
       "<p>1 rows × 24 columns</p>\n",
       "</div>"
      ],
      "text/plain": [
       "   beauty_cnt          building_id  building_series_id  shopping_cnt  \\\n",
       "0        36.0  3031030817531317628                   0          45.0   \n",
       "\n",
       "   flats_count   latitude building_type  cafe_restaurant_eating_out_cnt  \\\n",
       "0            0  55.705219         BRICK                            24.0   \n",
       "\n",
       "                               unified_address  entertainment_cnt  ...  \\\n",
       "0  Россия, Москва, 1-й Автозаводский проезд, 3               18.0  ...   \n",
       "\n",
       "   site_id  healthcare_cnt  expect_demolition  longitude  ceiling_height  \\\n",
       "0        0            16.0              False  37.656994             0.0   \n",
       "\n",
       "   has_elevator  laundry_and_repair_services_cnt  build_year     city_quadkey  \\\n",
       "0          True                             38.0        1937  120310101302011   \n",
       "\n",
       "                                  latlon  \n",
       "0  (55.70521926879883, 37.6569938659668)  \n",
       "\n",
       "[1 rows x 24 columns]"
      ]
     },
     "execution_count": 5,
     "metadata": {},
     "output_type": "execute_result"
    }
   ],
   "source": [
    "house.head(1)"
   ]
  },
  {
   "cell_type": "code",
   "execution_count": 6,
   "metadata": {},
   "outputs": [
    {
     "data": {
      "text/html": [
       "<div>\n",
       "<style scoped>\n",
       "    .dataframe tbody tr th:only-of-type {\n",
       "        vertical-align: middle;\n",
       "    }\n",
       "\n",
       "    .dataframe tbody tr th {\n",
       "        vertical-align: top;\n",
       "    }\n",
       "\n",
       "    .dataframe thead th {\n",
       "        text-align: right;\n",
       "    }\n",
       "</style>\n",
       "<table border=\"1\" class=\"dataframe\">\n",
       "  <thead>\n",
       "    <tr style=\"text-align: right;\">\n",
       "      <th></th>\n",
       "      <th>apartment_ratio</th>\n",
       "      <th>offers_in_sites_ratio</th>\n",
       "      <th>unique_active_buildings_count</th>\n",
       "      <th>avg_price_sqm</th>\n",
       "      <th>month</th>\n",
       "      <th>unique_active_building_series_count</th>\n",
       "      <th>rooms_offered_3_ratio</th>\n",
       "      <th>city_quadkey</th>\n",
       "      <th>median_price_sqm</th>\n",
       "      <th>rooms_offered_4_more_ratio</th>\n",
       "      <th>rooms_offered_1_ratio</th>\n",
       "      <th>total_area_avg</th>\n",
       "      <th>studio_ratio</th>\n",
       "      <th>offer_count</th>\n",
       "      <th>rooms_offered_2_ratio</th>\n",
       "    </tr>\n",
       "  </thead>\n",
       "  <tbody>\n",
       "    <tr>\n",
       "      <th>0</th>\n",
       "      <td>0.0</td>\n",
       "      <td>0.0</td>\n",
       "      <td>1</td>\n",
       "      <td>22727.273438</td>\n",
       "      <td>2018-02-01</td>\n",
       "      <td>1</td>\n",
       "      <td>0.0</td>\n",
       "      <td>120132230303223</td>\n",
       "      <td>22727.273438</td>\n",
       "      <td>0.0</td>\n",
       "      <td>0.0</td>\n",
       "      <td>44.0</td>\n",
       "      <td>0.0</td>\n",
       "      <td>1</td>\n",
       "      <td>1.0</td>\n",
       "    </tr>\n",
       "  </tbody>\n",
       "</table>\n",
       "</div>"
      ],
      "text/plain": [
       "   apartment_ratio  offers_in_sites_ratio  unique_active_buildings_count  \\\n",
       "0              0.0                    0.0                              1   \n",
       "\n",
       "   avg_price_sqm      month  unique_active_building_series_count  \\\n",
       "0   22727.273438 2018-02-01                                    1   \n",
       "\n",
       "   rooms_offered_3_ratio     city_quadkey  median_price_sqm  \\\n",
       "0                    0.0  120132230303223      22727.273438   \n",
       "\n",
       "   rooms_offered_4_more_ratio  rooms_offered_1_ratio  total_area_avg  \\\n",
       "0                         0.0                    0.0            44.0   \n",
       "\n",
       "   studio_ratio  offer_count  rooms_offered_2_ratio  \n",
       "0           0.0            1                    1.0  "
      ]
     },
     "execution_count": 6,
     "metadata": {},
     "output_type": "execute_result"
    }
   ],
   "source": [
    "train.head(1)"
   ]
  },
  {
   "cell_type": "code",
   "execution_count": 147,
   "metadata": {},
   "outputs": [
    {
     "data": {
      "text/plain": [
       "city_quadkey         \n",
       "120132230303223  0.03    22727.273438\n",
       "                 0.97    22727.273438\n",
       "120132230332230  0.03    43478.261719\n",
       "                 0.97    43478.261719\n",
       "120132231322113  0.03    34565.571318\n",
       "                             ...     \n",
       "120311020010022  0.97    25000.000000\n",
       "120311020010200  0.03    20083.198828\n",
       "                 0.97    26333.818691\n",
       "120311020100310  0.03    17823.163818\n",
       "                 0.97    23682.957682\n",
       "Name: avg_price_sqm, Length: 14194, dtype: float64"
      ]
     },
     "execution_count": 147,
     "metadata": {},
     "output_type": "execute_result"
    }
   ],
   "source": [
    "train[train.groupby(\"city_quadkey\").avg_price_sqm.\\\n",
    "      transform(lambda x : (x < x.)&(x>(x.quantile(0.05)))).eq(1)]"
   ]
  },
  {
   "cell_type": "code",
   "execution_count": 7,
   "metadata": {},
   "outputs": [],
   "source": [
    "def kill_outlier_prices(train):\n",
    "    res = train.groupby(\"city_quadkey\").avg_price_sqm.quantile([0.03, 0.97]).unstack(level=1)\n",
    "    mask = (res.loc[train.city_quadkey, 0.03] <= train.avg_price_sqm.values) & (\n",
    "        train.avg_price_sqm.values <= res.loc[train.city_quadkey, 0.97])\n",
    "    return train.loc[mask.values]"
   ]
  },
  {
   "cell_type": "code",
   "execution_count": 8,
   "metadata": {},
   "outputs": [],
   "source": [
    "train_clear = kill_outlier_prices(train)"
   ]
  },
  {
   "cell_type": "code",
   "execution_count": 287,
   "metadata": {},
   "outputs": [
    {
     "name": "stdout",
     "output_type": "stream",
     "text": [
      "offers_in_sites_ratio 0\n",
      "unique_active_buildings_count 1475\n",
      "avg_price_sqm 3295\n",
      "month 0\n",
      "unique_active_building_series_count 787\n",
      "rooms_offered_3_ratio 0\n",
      "city_quadkey 3313\n",
      "median_price_sqm 3322\n",
      "rooms_offered_4_more_ratio 1661\n",
      "rooms_offered_1_ratio 0\n",
      "total_area_avg 3131\n",
      "studio_ratio 1669\n",
      "offer_count 1655\n",
      "rooms_offered_2_ratio 0\n"
     ]
    },
    {
     "data": {
      "text/plain": [
       "True     146201\n",
       "False     19826\n",
       "Name: apartment_ratio, dtype: int64"
      ]
     },
     "execution_count": 287,
     "metadata": {},
     "output_type": "execute_result"
    }
   ],
   "source": [
    "y = train.apartment_ratio\n",
    "removed_outliers = y.between(y.quantile(.05), y.quantile(.95))\n",
    "\n",
    "for column in train.columns[1:]:\n",
    "    \n",
    "    y = train[column]\n",
    "    mask = y.between(y.quantile(.01), y.quantile(.99))\n",
    "    removed_outliers &= mask\n",
    "    \n",
    "    print(column, mask.size - mask.sum())\n",
    "\n",
    "removed_outliers.value_counts()"
   ]
  },
  {
   "cell_type": "code",
   "execution_count": 9,
   "metadata": {},
   "outputs": [],
   "source": [
    "val = pd.read_csv('val.tsv', sep='\\t')\n",
    "val['month'] = pd.to_datetime(val.month)"
   ]
  },
  {
   "cell_type": "code",
   "execution_count": 41,
   "metadata": {},
   "outputs": [],
   "source": [
    "from scipy.linalg import inv\n",
    "from datetime import timedelta\n",
    "\n",
    "def to_time(t):\n",
    "    return [pd.to_datetime('2017-01-01') +\n",
    "            timedelta(x) for x in t]\n",
    "\n",
    "def regression(X, y):\n",
    "    A = (X - pd.to_datetime('2017-01-01')).apply(lambda x: x.days).values\n",
    "    A = np.hstack([A.reshape(-1, 1) ** 0, A.reshape(-1, 1), A.reshape(-1, 1) ** 1.3]).astype(float)\n",
    "    w = inv(A.T @ A + 0.1 * np.eye(A.shape[1])) @ A.T @ y.values.reshape(-1, 1)\n",
    "    \n",
    "    x_reg = list(range(0, 365 * 3, 30))\n",
    "    X_plt = np.array([x_reg]).reshape(-1, 1)\n",
    "    X_plt = np.hstack([X_plt ** 0, X_plt, X_plt ** 1.3]).astype(float)\n",
    "    \n",
    "    return (X_plt, w, to_time(x_reg))\n",
    "\n",
    "def plot_prices(cnt=5):\n",
    "    numbers = np.unique(train.city_quadkey.values)\n",
    "    for i in range(cnt):\n",
    "        key = np.random.choice(numbers)\n",
    "        \n",
    "        df_clear = train_clear.groupby('city_quadkey').get_group(key)\n",
    "        df = train.groupby('city_quadkey').get_group(key)\n",
    "        try:\n",
    "            df_val = val.groupby('city_quadkey').get_group(key)\n",
    "            \n",
    "            x_clear, y_clear = df_clear.month, df_clear.avg_price_sqm\n",
    "\n",
    "            X_clear, w_clear, time = regression(x_clear, y_clear)\n",
    "\n",
    "            x_clear = x_clear.append(df_val.month)\n",
    "            y_clear = y_clear.append(df_val.avg_price_sqm)\n",
    "            \n",
    "            if df.shape != df_clear.shape:\n",
    "                x, y = df.month, df.avg_price_sqm\n",
    "                \n",
    "                X, w, _ = regression(x, y)\n",
    "                plt.scatter(x, y)\n",
    "                plt.plot(time, X @ w)\n",
    "\n",
    "            plt.axvline(x=pd.to_datetime('2019-08-15'), ymin=0, ymax=y.max())\n",
    "            plt.scatter(x_clear, y_clear)\n",
    "            plt.plot(time, X_clear @ w_clear)\n",
    "        except:\n",
    "            pass"
   ]
  },
  {
   "cell_type": "code",
   "execution_count": 145,
   "metadata": {},
   "outputs": [
    {
     "data": {
      "image/png": "[encoded data removed]",
      "text/plain": [
       "<Figure size 432x288 with 1 Axes>"
      ]
     },
     "metadata": {
      "needs_background": "light"
     },
     "output_type": "display_data"
    }
   ],
   "source": [
    "plot_prices(1)"
   ]
  },
  {
   "cell_type": "code",
   "execution_count": null,
   "metadata": {},
   "outputs": [],
   "source": []
  }
 ],
 "metadata": {
  "kernelspec": {
   "display_name": "Python 3",
   "language": "python",
   "name": "python3"
  },
  "language_info": {
   "codemirror_mode": {
    "name": "ipython",
    "version": 3
   },
   "file_extension": ".py",
   "mimetype": "text/x-python",
   "name": "python",
   "nbconvert_exporter": "python",
   "pygments_lexer": "ipython3",
   "version": "3.8.5"
  }
 },
 "nbformat": 4,
 "nbformat_minor": 4
}
